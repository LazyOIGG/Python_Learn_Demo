{
 "cells": [
  {
   "metadata": {},
   "cell_type": "markdown",
   "source": "# 如何让参数变成可选的",
   "id": "23fb72f969ebf578"
  },
  {
   "metadata": {
    "ExecuteTime": {
     "end_time": "2025-04-30T08:20:10.933103Z",
     "start_time": "2025-04-30T08:20:10.924239Z"
    }
   },
   "cell_type": "code",
   "source": [
    "def get_formatted_name(first_name, last_name, middle_name=''):\n",
    "    \"\"\"返回标准格式的姓名\"\"\"\n",
    "    if middle_name:\n",
    "        full_name = f\"{first_name} {middle_name} {last_name}\"\n",
    "    else:\n",
    "        full_name = f\"{first_name} {last_name}\"\n",
    "    return full_name.title()\n",
    "\n",
    "\n",
    "nobel_prize_winner = get_formatted_name(\"Denis\", \"Hassbis\")\n",
    "print(nobel_prize_winner)\n",
    "ai_father = get_formatted_name(\"Geoffrey\", \"Hinton\", \"Everest\")\n",
    "print(ai_father)"
   ],
   "id": "151747662beec076",
   "outputs": [
    {
     "name": "stdout",
     "output_type": "stream",
     "text": [
      "Denis Hassbis\n",
      "Geoffrey Everest Hinton\n"
     ]
    }
   ],
   "execution_count": 1
  },
  {
   "metadata": {},
   "cell_type": "markdown",
   "source": "# 函数返回字典",
   "id": "fdf590b51a9883d1"
  },
  {
   "metadata": {
    "ExecuteTime": {
     "end_time": "2025-04-30T08:38:01.401254Z",
     "start_time": "2025-04-30T08:38:01.395775Z"
    }
   },
   "cell_type": "code",
   "source": [
    "def build_person(first_name, last_name, middle_name=''):\n",
    "    \"\"\"返回一个字典\"\"\"\n",
    "    person = {\n",
    "        'first_name': first_name,\n",
    "        'last_name': last_name,\n",
    "    }\n",
    "    if middle_name:\n",
    "        person['middle_name'] = middle_name\n",
    "    return person  # 直接返回字典，不需要括号\n",
    "\n",
    "\n",
    "student = build_person(\"ilya\", \"m0nesy\", \"Osipov\")\n",
    "print(student)"
   ],
   "id": "6be52df775e6bde5",
   "outputs": [
    {
     "name": "stdout",
     "output_type": "stream",
     "text": [
      "{'first_name': 'ilya', 'last_name': 'm0nesy', 'middle_name': 'Osipov'}\n"
     ]
    }
   ],
   "execution_count": 7
  },
  {
   "metadata": {},
   "cell_type": "markdown",
   "source": "# 函数组织：修改列表信息",
   "id": "d5ba7806b7a80539"
  },
  {
   "metadata": {
    "ExecuteTime": {
     "end_time": "2025-04-30T08:40:18.528043Z",
     "start_time": "2025-04-30T08:40:18.518723Z"
    }
   },
   "cell_type": "code",
   "source": [
    "def build_person(first_name, last_name, middle_name=\"\"):\n",
    "    \"\"\"返回表示一个人的字典\"\"\"\n",
    "    person = {\n",
    "        \"first_name\": first_name,\n",
    "        \"last_name\": last_name,\n",
    "    }\n",
    "    if middle_name:\n",
    "        person[\"middle_name\"] = middle_name\n",
    "    return person\n",
    "\n",
    "\n",
    "def add_person(people_list, first_name, last_name, middle_name=\"\"):\n",
    "    \"\"\"添加一个人到列表\"\"\"\n",
    "    person = build_person(first_name, last_name, middle_name)\n",
    "    people_list.append(person)\n",
    "    print(f\"已添加: {person['first_name']} {person.get('middle_name', '')} {person['last_name']}\")\n",
    "\n",
    "\n",
    "def update_person(people_list, first_name, last_name, new_middle_name):\n",
    "    \"\"\"更新人员的中间名\"\"\"\n",
    "    for person in people_list:\n",
    "        if person[\"first_name\"] == first_name and person[\"last_name\"] == last_name:\n",
    "            person[\"middle_name\"] = new_middle_name\n",
    "            print(f\"已更新: {first_name} {new_middle_name} {last_name}\")\n",
    "            return\n",
    "    print(f\"未找到 {first_name} {last_name}\")\n",
    "\n",
    "\n",
    "def delete_person(people_list, first_name, last_name):\n",
    "    \"\"\"从列表中删除人员\"\"\"\n",
    "    for i, person in enumerate(people_list):\n",
    "        if person[\"first_name\"] == first_name and person[\"last_name\"] == last_name:\n",
    "            removed_person = people_list.pop(i)\n",
    "            print(\n",
    "                f\"已删除: {removed_person['first_name']} {removed_person.get('middle_name', '')} {removed_person['last_name']}\")\n",
    "            return\n",
    "    print(f\"未找到 {first_name} {last_name}\")\n",
    "\n",
    "\n",
    "def print_people(people_list):\n",
    "    \"\"\"打印当前列表中的所有人员\"\"\"\n",
    "    print(\"\\n当前人员列表:\")\n",
    "    for person in people_list:\n",
    "        name = f\"{person['first_name']} {person.get('middle_name', '')} {person['last_name']}\"\n",
    "        print(f\"- {name.strip()}\")  # 用 strip() 移除多余空格\n",
    "\n",
    "\n",
    "# 初始化一个空列表\n",
    "people = []\n",
    "\n",
    "# 添加人员\n",
    "add_person(people, \"Ilya\", \"m0nesy\", \"Osipov\")\n",
    "add_person(people, \"John\", \"Doe\")\n",
    "\n",
    "# 打印列表\n",
    "print_people(people)\n",
    "\n",
    "# 修改人员（更新中间名）\n",
    "update_person(people, \"Ilya\", \"m0nesy\", \"Ivanovich\")\n",
    "\n",
    "# 删除人员\n",
    "delete_person(people, \"John\", \"Doe\")\n",
    "\n",
    "# 再次打印列表\n",
    "print_people(people)"
   ],
   "id": "faae9a5f330f0dbe",
   "outputs": [
    {
     "name": "stdout",
     "output_type": "stream",
     "text": [
      "已添加: Ilya Osipov m0nesy\n",
      "已添加: John  Doe\n",
      "\n",
      "当前人员列表:\n",
      "- Ilya Osipov m0nesy\n",
      "- John  Doe\n",
      "已更新: Ilya Ivanovich m0nesy\n",
      "已删除: John  Doe\n",
      "\n",
      "当前人员列表:\n",
      "- Ilya Ivanovich m0nesy\n"
     ]
    }
   ],
   "execution_count": 8
  }
 ],
 "metadata": {
  "kernelspec": {
   "display_name": "Python 3",
   "language": "python",
   "name": "python3"
  },
  "language_info": {
   "codemirror_mode": {
    "name": "ipython",
    "version": 2
   },
   "file_extension": ".py",
   "mimetype": "text/x-python",
   "name": "python",
   "nbconvert_exporter": "python",
   "pygments_lexer": "ipython2",
   "version": "2.7.6"
  }
 },
 "nbformat": 4,
 "nbformat_minor": 5
}
