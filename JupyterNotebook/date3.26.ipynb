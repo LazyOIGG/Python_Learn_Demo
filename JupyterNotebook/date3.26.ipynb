{
 "cells": [
  {
   "cell_type": "code",
   "id": "06279743-4997-4fa7-9aa6-23d73939a93f",
   "metadata": {
    "ExecuteTime": {
     "end_time": "2025-03-26T08:24:26.251766Z",
     "start_time": "2025-03-26T08:24:26.246659Z"
    }
   },
   "source": [
    "# 注意单个字符与字符串在形式上一样的\n",
    "#ord()和chr()要求字符串长度为1\n",
    "ch = 'A'\n",
    "init_ascii = 13\n",
    "if 'A' <= ch <= 'Z':\n",
    "    init_ascii = ord('A')\n",
    "elif 'a' <= ch <= 'z':\n",
    "    init_ascii = ord('a')\n",
    "\n",
    "    #ch第一次ROT13的结果\n",
    "ch_rot13 = chr(init_ascii + (ord(ch) - init_ascii + 13) % 26)\n",
    "print(f\"'{ch}' 1st ROT13: {ch_rot13}\")\n",
    "ch = ch_rot13\n",
    "\n",
    "#ch第二次ROT13的结果\n",
    "ch_rot13 = chr(init_ascii + (ord(ch) - init_ascii + 13) % 26)\n",
    "print(f\"'{ch}' 2nd ROT13: {ch_rot13}\")\n",
    "ch = ch_rot13"
   ],
   "outputs": [
    {
     "name": "stdout",
     "output_type": "stream",
     "text": [
      "'A' 1st ROT13: N\n",
      "'N' 2nd ROT13: A\n"
     ]
    }
   ],
   "execution_count": 2
  },
  {
   "cell_type": "code",
   "id": "cee80bf3-f1c7-4e51-85b2-8529d731d6ec",
   "metadata": {
    "ExecuteTime": {
     "end_time": "2025-03-26T08:54:33.082286Z",
     "start_time": "2025-03-26T08:54:33.076525Z"
    }
   },
   "source": [
    "# Python 之禅的加密文本（ROT13）\n",
    "s = \"\"\"Gur Mra bs Clguba, ol Gvz Crgref\n",
    "\n",
    "Ornhgvshy vf orggre guna htyl.\n",
    "Rkcyvpvg vf orggre guna vzcyvpvg.\n",
    "Fvzcyr vf orggre guna pbzcyrk.\n",
    "Pbzcyrk vf orggre guna pbzcyvpngrq.\n",
    "Syng vf orggre guna arfgrq.\n",
    "Fcnefr vf orggre guna qrafr.\n",
    "Ernqnovyvgl pbhagf.\n",
    "Fcrpvny pnfrf nera'g fcrpvny rabhtu gb oernx gur ehyrf.\n",
    "Nygubhtu cenpgvpnyvgl orngf chevgl.\n",
    "Reebef fubhyq arire cnff fvyragyl.\n",
    "Hayrff rkcyvpvgyl fvyraprq.\n",
    "Va gur snpr bs nzovthvgl, ershfr gur grzcgngvba gb thrff.\n",
    "Gurer fubhyq or bar-- naq cersrenoyl bayl bar --boivbhf jnl gb qb vg.\n",
    "Nygubhtu gung jnl znl abg or boivbhf ng svefg hayrff lbh'er Qhgpu.\n",
    "Abj vf orggre guna arire.\n",
    "Nygubhtu arire vf bsgra orggre guna *evtug* abj.\n",
    "Vs gur vzcyrzragngvba vf uneq gb rkcynva, vg'f n onq vqrn.\n",
    "Vs gur vzcyrzragngvba vf rnfl gb rkcynva, vg znl or n tbbq vqrn.\n",
    "Anzrfcnprf ner bar ubaxvat terng vqrn -- yrg'f qb zber bs gubfr!\"\"\"\n",
    "\n",
    "# 解密函数（ROT13）\n",
    "d = {}\n",
    "for c in (65, 97):  # 大写字母和小写字母的ASCII范围\n",
    "    for i in range(26):\n",
    "        d[chr(i + c)] = chr((i + 13) % 26 + c)\n",
    "\n",
    "# 解密并输出\n",
    "print(\"\".join([d.get(c, c) for c in s]))"
   ],
   "outputs": [
    {
     "name": "stdout",
     "output_type": "stream",
     "text": [
      "The Zen of Python, by Tim Peters\n",
      "\n",
      "Beautiful is better than ugly.\n",
      "Explicit is better than implicit.\n",
      "Simple is better than complex.\n",
      "Complex is better than complicated.\n",
      "Flat is better than nested.\n",
      "Sparse is better than dense.\n",
      "Readability counts.\n",
      "Special cases aren't special enough to break the rules.\n",
      "Although practicality beats purity.\n",
      "Errors should never pass silently.\n",
      "Unless explicitly silenced.\n",
      "In the face of ambiguity, refuse the temptation to guess.\n",
      "There should be one-- and preferably only one --obvious way to do it.\n",
      "Although that way may not be obvious at first unless you're Dutch.\n",
      "Now is better than never.\n",
      "Although never is often better than *right* now.\n",
      "If the implementation is hard to explain, it's a bad idea.\n",
      "If the implementation is easy to explain, it may be a good idea.\n",
      "Namespaces are one honking great idea -- let's do more of those!\n"
     ]
    }
   ],
   "execution_count": 3
  },
  {
   "metadata": {
    "ExecuteTime": {
     "end_time": "2025-03-26T09:02:58.529204Z",
     "start_time": "2025-03-26T09:02:58.520623Z"
    }
   },
   "cell_type": "code",
   "source": [
    "# 列表元素的增删改\n",
    "# del 指明列表具体元素\n",
    "llms = ['DeepSeek', 'OpenAI', 'Grok3', 'Qwen']\n",
    "\n",
    "# del llms[0] # 删除第一个元素\n",
    "# print(llms)\n",
    "\n",
    "# print(llms.pop()) # 默认弹出最后一个元素\n",
    "# print(llms)\n",
    "\n",
    "# print(llms.pop(1)) # 弹出第二个元素\n",
    "# print(llms)\n"
   ],
   "id": "868e2893a91407eb",
   "outputs": [
    {
     "name": "stdout",
     "output_type": "stream",
     "text": [
      "OpenAI\n",
      "['DeepSeek', 'Grok3', 'Qwen']\n"
     ]
    }
   ],
   "execution_count": 6
  },
  {
   "metadata": {
    "ExecuteTime": {
     "end_time": "2025-03-26T09:17:13.125485Z",
     "start_time": "2025-03-26T09:17:13.119332Z"
    }
   },
   "cell_type": "code",
   "source": [
    "# 列表的排序\n",
    "llms = ['DeepSeek', 'OpenAI', 'Grok3', 'Qwen']\n",
    "\n",
    "# sorted内置函数\n",
    "print(sorted(llms))\n",
    "# sorted不会对原来的列表造成影响\n",
    "print(llms)\n",
    "\n",
    "# lst.sort()\n",
    "llms.sort()\n",
    "print(llms)\n"
   ],
   "id": "4ecff285e74a2a49",
   "outputs": [
    {
     "name": "stdout",
     "output_type": "stream",
     "text": [
      "['DeepSeek', 'Grok3', 'OpenAI', 'Qwen']\n",
      "['DeepSeek', 'OpenAI', 'Grok3', 'Qwen']\n",
      "['DeepSeek', 'Grok3', 'OpenAI', 'Qwen']\n"
     ]
    }
   ],
   "execution_count": 12
  },
  {
   "metadata": {
    "ExecuteTime": {
     "end_time": "2025-03-26T09:20:38.500237Z",
     "start_time": "2025-03-26T09:20:38.494354Z"
    }
   },
   "cell_type": "code",
   "source": [
    "# 遍历列表\n",
    "llms = ['DeepSeek', 'Grok3', 'OpenAI', 'Qwen']\n",
    "state = ['open', 'close', 'close', 'open']\n",
    "for llm in llms:\n",
    "    print(llm)"
   ],
   "id": "f992ca93073d9bc3",
   "outputs": [
    {
     "name": "stdout",
     "output_type": "stream",
     "text": [
      "DeepSeek\n",
      "Grok3\n",
      "OpenAI\n",
      "Qwen\n"
     ]
    }
   ],
   "execution_count": 13
  },
  {
   "metadata": {
    "ExecuteTime": {
     "end_time": "2025-03-26T09:34:59.241099Z",
     "start_time": "2025-03-26T09:34:59.234017Z"
    }
   },
   "cell_type": "code",
   "source": [
    "# 创建数值列表：range([start,],end,[,step])\n",
    "print(range(1, 11, 2))  # 解释范围\n",
    "print(list(range(1, 11, 2)))"
   ],
   "id": "95a92395b430da46",
   "outputs": [
    {
     "name": "stdout",
     "output_type": "stream",
     "text": [
      "range(1, 11, 2)\n",
      "[1, 3, 5, 7, 9]\n"
     ]
    }
   ],
   "execution_count": 4
  },
  {
   "metadata": {
    "ExecuteTime": {
     "end_time": "2025-03-26T09:37:49.860799Z",
     "start_time": "2025-03-26T09:37:49.855499Z"
    }
   },
   "cell_type": "code",
   "source": [
    "# 列表推导式list comprehension\n",
    "squares = [value ** 2 for value in range(1, 11)]\n",
    "print(squares)"
   ],
   "id": "a4b182cfefd26064",
   "outputs": [
    {
     "name": "stdout",
     "output_type": "stream",
     "text": [
      "[1, 4, 9, 16, 25, 36, 49, 64, 81, 100]\n"
     ]
    }
   ],
   "execution_count": 6
  },
  {
   "metadata": {
    "ExecuteTime": {
     "end_time": "2025-03-26T11:32:36.604635Z",
     "start_time": "2025-03-26T11:32:36.597298Z"
    }
   },
   "cell_type": "code",
   "source": [
    "# 简单的统计:max(list),min(list),sum(list)\n",
    "lst = [1, 4, 9, 16, 25, 36, 49, 64, 81, 100]\n",
    "print(max(lst))\n",
    "print(min(lst))\n",
    "print(sum(lst))"
   ],
   "id": "6b9a961415cc52cb",
   "outputs": [
    {
     "name": "stdout",
     "output_type": "stream",
     "text": [
      "100\n",
      "1\n",
      "385\n"
     ]
    }
   ],
   "execution_count": 1
  }
 ],
 "metadata": {
  "kernelspec": {
   "display_name": "Python 3 (ipykernel)",
   "language": "python",
   "name": "python3"
  },
  "language_info": {
   "codemirror_mode": {
    "name": "ipython",
    "version": 3
   },
   "file_extension": ".py",
   "mimetype": "text/x-python",
   "name": "python",
   "nbconvert_exporter": "python",
   "pygments_lexer": "ipython3",
   "version": "3.13.2"
  }
 },
 "nbformat": 4,
 "nbformat_minor": 5
}
