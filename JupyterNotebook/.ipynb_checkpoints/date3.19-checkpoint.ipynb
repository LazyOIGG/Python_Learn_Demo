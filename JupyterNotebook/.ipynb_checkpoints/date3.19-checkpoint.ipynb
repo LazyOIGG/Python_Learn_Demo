{
 "cells": [
  {
   "cell_type": "code",
   "execution_count": 4,
   "id": "c49100e9-74c9-45bb-8c5b-fb271a8cffa6",
   "metadata": {},
   "outputs": [
    {
     "name": "stdout",
     "output_type": "stream",
     "text": [
      "Before swap: a=100, b=0\n",
      "After swap: a=0, b=100\n"
     ]
    }
   ],
   "source": [
    "#多变量赋值\n",
    "a = 100\n",
    "b = 0\n",
    "print(f\"Before swap: a={a}, b={b}\")\n",
    "b, a = a, b  #iterable object 可迭代对象\n",
    "print(f\"After swap: a={a}, b={b}\")"
   ]
  },
  {
   "cell_type": "code",
   "execution_count": 1,
   "id": "e2fabcc4-ea06-449f-8eba-a9d665d115a4",
   "metadata": {},
   "outputs": [],
   "source": [
    "#常量（全大写）\n",
    "PI = 3.14\n",
    "MAX_CONNECTIONS = 10000\n",
    "#重视注释"
   ]
  },
  {
   "cell_type": "code",
   "execution_count": 2,
   "id": "b993046a-8c85-4964-97c4-62f3e3e7d14b",
   "metadata": {},
   "outputs": [
    {
     "name": "stdout",
     "output_type": "stream",
     "text": [
      "The Zen of Python, by Tim Peters\n",
      "\n",
      "Beautiful is better than ugly.\n",
      "Explicit is better than implicit.\n",
      "Simple is better than complex.\n",
      "Complex is better than complicated.\n",
      "Flat is better than nested.\n",
      "Sparse is better than dense.\n",
      "Readability counts.\n",
      "Special cases aren't special enough to break the rules.\n",
      "Although practicality beats purity.\n",
      "Errors should never pass silently.\n",
      "Unless explicitly silenced.\n",
      "In the face of ambiguity, refuse the temptation to guess.\n",
      "There should be one-- and preferably only one --obvious way to do it.\n",
      "Although that way may not be obvious at first unless you're Dutch.\n",
      "Now is better than never.\n",
      "Although never is often better than *right* now.\n",
      "If the implementation is hard to explain, it's a bad idea.\n",
      "If the implementation is easy to explain, it may be a good idea.\n",
      "Namespaces are one honking great idea -- let's do more of those!\n"
     ]
    }
   ],
   "source": [
    "#Python之禅\n",
    "import this"
   ]
  },
  {
   "cell_type": "code",
   "execution_count": 1,
   "id": "302dc854-b035-4e7b-8f6b-e6fe46587052",
   "metadata": {},
   "outputs": [],
   "source": [
    "#反重力漫画\n",
    "import antigravity"
   ]
  },
  {
   "cell_type": "code",
   "execution_count": 7,
   "id": "7ab5efc8-6c18-4ba9-aa75-d0c1ad6bfd3d",
   "metadata": {},
   "outputs": [
    {
     "name": "stdout",
     "output_type": "stream",
     "text": [
      "The Zen of Python, by Tim Peters\n",
      "\n",
      "Beautiful is better than ugly.\n",
      "Explicit is better than implicit.\n",
      "Simple is better than complex.\n",
      "Complex is better than complicated.\n",
      "Flat is better than nested.\n",
      "Sparse is better than dense.\n",
      "Readability counts.\n",
      "Special cases aren't special enough to break the rules.\n",
      "Although practicality beats purity.\n",
      "Errors should never pass silently.\n",
      "Unless explicitly silenced.\n",
      "In the face of ambiguity, refuse the temptation to guess.\n",
      "There should be one-- and preferably only one --obvious way to do it.\n",
      "Although that way may not be obvious at first unless you're Dutch.\n",
      "Now is better than never.\n",
      "Although never is often better than *right* now.\n",
      "If the implementation is hard to explain, it's a bad idea.\n",
      "If the implementation is easy to explain, it may be a good idea.\n",
      "Namespaces are one honking great idea -- let's do more of those!\n",
      "Gur Mra bs Clguba, ol Gvz Crgref\n",
      "\n",
      "Ornhgvshy vf orggre guna htyl.\n",
      "Rkcyvpvg vf orggre guna vzcyvpvg.\n",
      "Fvzcyr vf orggre guna pbzcyrk.\n",
      "Pbzcyrk vf orggre guna pbzcyvpngrq.\n",
      "Syng vf orggre guna arfgrq.\n",
      "Fcnefr vf orggre guna qrafr.\n",
      "Ernqnovyvgl pbhagf.\n",
      "Fcrpvny pnfrf nera'g fcrpvny rabhtu gb oernx gur ehyrf.\n",
      "Nygubhtu cenpgvpnyvgl orngf chevgl.\n",
      "Reebef fubhyq arire cnff fvyragyl.\n",
      "Hayrff rkcyvpvgyl fvyraprq.\n",
      "Va gur snpr bs nzovthvgl, ershfr gur grzcgngvba gb thrff.\n",
      "Gurer fubhyq or bar-- naq cersrenoyl bayl bar --boivbhf jnl gb qb vg.\n",
      "Nygubhtu gung jnl znl abg or boivbhf ng svefg hayrff lbh'er Qhgpu.\n",
      "Abj vf orggre guna arire.\n",
      "Nygubhtu arire vf bsgra orggre guna *evtug* abj.\n",
      "Vs gur vzcyrzragngvba vf uneq gb rkcynva, vg'f n onq vqrn.\n",
      "Vs gur vzcyrzragngvba vf rnfl gb rkcynva, vg znl or n tbbq vqrn.\n",
      "Anzrfcnprf ner bar ubaxvat terng vqrn -- yrg'f qb zber bs gubfr!\n"
     ]
    }
   ],
   "source": [
    "import this\n",
    "\n",
    "# 查看 this 模块的源码\n",
    "print(this.s)"
   ]
  },
  {
   "cell_type": "code",
   "execution_count": 14,
   "id": "9e46c9fb-443d-461f-a4b3-7dcd961cc862",
   "metadata": {},
   "outputs": [
    {
     "name": "stdout",
     "output_type": "stream",
     "text": [
      "2088322124544\n",
      "<class 'list'>\n",
      "[1, 'Deepseek', 2, 'OpenAI', 3, 'Grok3', 4, 'Qwen']\n",
      "1 : Deepseek\n"
     ]
    }
   ],
   "source": [
    "#列表简介list和DS线性表（广义表）\n",
    "#help(list)\n",
    "llms = [1, 'Deepseek', 2, 'OpenAI', 3, 'Grok3', 4, 'Qwen']\n",
    "print(id(llms))\n",
    "print(type(llms))\n",
    "print(llms)\n",
    "print(f\"{llms[0]} : {llms[1]}\")  #list中元素可以是任意类型，之间用,分隔，可通过下标访问具体元素，默认从0开始"
   ]
  },
  {
   "cell_type": "code",
   "execution_count": 16,
   "id": "73590c2e-64d7-4cbd-af64-cc0771db28b1",
   "metadata": {},
   "outputs": [
    {
     "name": "stdout",
     "output_type": "stream",
     "text": [
      "['Deepseek', 'OpenAI', 'Grok3', 'Qwen']\n",
      "['Deepseek', 'OpenAI', 'Grok3', 'Qwen', 'Claud']\n",
      "['文心一言4.5', 'Deepseek', 'OpenAI', 'Grok3', 'Qwen', 'Claud']\n"
     ]
    }
   ],
   "source": [
    "#列表元素的增删改\n",
    "llms = ['Deepseek', 'OpenAI', 'Grok3', 'Qwen']\n",
    "print(llms)\n",
    "llms.append(\"Claud\")\n",
    "print(llms)\n",
    "llms.insert(0, '文心一言4.5')\n",
    "print(llms)"
   ]
  },
  {
   "cell_type": "code",
   "execution_count": null,
   "id": "040c5647-f7b7-431c-a9c9-3077987e8b79",
   "metadata": {},
   "outputs": [],
   "source": []
  }
 ],
 "metadata": {
  "kernelspec": {
   "display_name": "Python 3 (ipykernel)",
   "language": "python",
   "name": "python3"
  },
  "language_info": {
   "codemirror_mode": {
    "name": "ipython",
    "version": 3
   },
   "file_extension": ".py",
   "mimetype": "text/x-python",
   "name": "python",
   "nbconvert_exporter": "python",
   "pygments_lexer": "ipython3",
   "version": "3.13.2"
  }
 },
 "nbformat": 4,
 "nbformat_minor": 5
}
