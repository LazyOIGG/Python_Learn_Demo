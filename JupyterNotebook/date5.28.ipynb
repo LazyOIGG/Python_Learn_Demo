{
 "cells": [
  {
   "metadata": {},
   "cell_type": "markdown",
   "source": "# pytest自动测试",
   "id": "f24dcb25c452b4c6"
  },
  {
   "metadata": {
    "ExecuteTime": {
     "end_time": "2025-05-28T09:13:42.682217Z",
     "start_time": "2025-05-28T09:13:42.672375Z"
    }
   },
   "cell_type": "code",
   "source": [
    "%%file ../src/name_function.py\n",
    "\n",
    "def get_formatted_name(first_name, last_name, middle_name=''):\n",
    "    \"\"\"生成格式规范的姓名\"\"\"\n",
    "    if middle_name:\n",
    "        full_name = f\"{first_name} {middle_name} {last_name}\"\n",
    "    else:\n",
    "        full_name = f\"{first_name} {last_name}\"\n",
    "    return full_name.title()"
   ],
   "id": "initial_id",
   "outputs": [
    {
     "name": "stdout",
     "output_type": "stream",
     "text": [
      "Overwriting ../src/name_function.py\n"
     ]
    }
   ],
   "execution_count": 21
  },
  {
   "metadata": {
    "ExecuteTime": {
     "end_time": "2025-05-28T09:16:34.803479Z",
     "start_time": "2025-05-28T09:16:34.794340Z"
    }
   },
   "cell_type": "code",
   "source": [
    "%%file ../test/test_name_function.py\n",
    "import sys\n",
    "import os\n",
    "\n",
    "# 获取当前文件所在目录的父目录\n",
    "project_root = os.path.dirname(os.path.dirname(os.path.abspath(__file__)))\n",
    "sys.path.append(project_root)\n",
    "\n",
    "#导入待测试模块\n",
    "from src.name_function import get_formatted_name\n",
    "\n",
    "\n",
    "def test_first_last_name():\n",
    "    \"\"\"能正确处理Janis Joplin这样的名字吗？\"\"\"\n",
    "    formatted_name = get_formatted_name(\"janis\", \"joplin\")\n",
    "    assert formatted_name == \"Janis Joplin\"  # assert判断并返回结果True还是False\n",
    "\n",
    "\n",
    "def test_first_middle_last_name():\n",
    "    \"\"\"能正确处理Janis Middle Joplin这样的名字吗？\"\"\"\n",
    "    formatted_name = get_formatted_name(\"janis\", \"joplin\", \"middle\")\n",
    "    assert formatted_name == \"Janis Middle Joplin\""
   ],
   "id": "bacd175b165ecb33",
   "outputs": [
    {
     "name": "stdout",
     "output_type": "stream",
     "text": [
      "Overwriting ../test/test_name_function.py\n"
     ]
    }
   ],
   "execution_count": 24
  },
  {
   "metadata": {},
   "cell_type": "markdown",
   "source": [
    "# 测试类\n",
    "* 之前的断言是判定值是否与预期相符: assert a == b"
   ],
   "id": "aa77273bb5558bd3"
  },
  {
   "metadata": {
    "ExecuteTime": {
     "end_time": "2025-05-28T09:23:03.797292Z",
     "start_time": "2025-05-28T09:23:03.786305Z"
    }
   },
   "cell_type": "code",
   "source": [
    "%%file ../src/survey.py\n",
    "\n",
    "class AnonymousSurvey:\n",
    "    \"\"\"收集匿名调查的问卷\"\"\"\n",
    "\n",
    "    def __init__(self, question):\n",
    "        self.question = question\n",
    "        self.responses = []\n",
    "\n",
    "    def store_response(self, new_response):\n",
    "        self.responses.append(new_response)\n",
    "\n",
    "    def show_responses(self):\n",
    "        print(\"Survey result:\")\n",
    "        for response in self.responses:\n",
    "            print(f\"\\t{response}\")"
   ],
   "id": "890a4b3c6fb010a4",
   "outputs": [
    {
     "name": "stdout",
     "output_type": "stream",
     "text": [
      "Writing ../src/survey.py\n"
     ]
    }
   ],
   "execution_count": 25
  },
  {
   "metadata": {
    "ExecuteTime": {
     "end_time": "2025-05-28T09:38:20.845322Z",
     "start_time": "2025-05-28T09:38:20.826961Z"
    }
   },
   "cell_type": "code",
   "source": [
    "%%file ../test/test_survey.py\n",
    "import sys\n",
    "import os\n",
    "\n",
    "# 获取当前文件所在目录的父目录\n",
    "project_root = os.path.dirname(os.path.dirname(os.path.abspath(__file__)))\n",
    "sys.path.append(project_root)\n",
    "\n",
    "#导入待测试模块\n",
    "from src.survey import AnonymousSurvey\n",
    "\n",
    "\n",
    "def test_store_single_response():\n",
    "    \"\"\"测试单个答案是否会被妥善存储\"\"\"\n",
    "    question = \"What languages do you speak?\"\n",
    "    language_survey = AnonymousSurvey(question)\n",
    "    language_survey.store_response('English')\n",
    "    assert 'English' in language_survey.responses\n",
    "\n",
    "\n",
    "def test_store_multiple_responses():\n",
    "    \"\"\"测试多个答案是否会被妥善存储\"\"\"\n",
    "    question = \"What languages do you speak?\"\n",
    "    language_survey = AnonymousSurvey(question)\n",
    "    responses = ['English', 'Spanish', 'Mandarin']\n",
    "\n",
    "    for response in responses:\n",
    "        language_survey.store_response(response)\n",
    "\n",
    "    for response in responses:\n",
    "        assert response in language_survey.responses"
   ],
   "id": "52fe3391f3932b04",
   "outputs": [
    {
     "name": "stdout",
     "output_type": "stream",
     "text": [
      "Overwriting ../test/test_survey.py\n"
     ]
    }
   ],
   "execution_count": 31
  },
  {
   "metadata": {},
   "cell_type": "markdown",
   "source": "* 使用pytest.fixture装饰器",
   "id": "a70f6ffc22014342"
  },
  {
   "metadata": {
    "ExecuteTime": {
     "end_time": "2025-05-28T09:38:23.352172Z",
     "start_time": "2025-05-28T09:38:23.342097Z"
    }
   },
   "cell_type": "code",
   "source": [
    "%%file ../test/test_survey_plus.py\n",
    "import sys\n",
    "import os\n",
    "import pytest\n",
    "\n",
    "# 获取当前文件所在目录的父目录\n",
    "project_root = os.path.dirname(os.path.dirname(os.path.abspath(__file__)))\n",
    "sys.path.append(project_root)\n",
    "\n",
    "# 导入待测试模块\n",
    "from src.survey import AnonymousSurvey\n",
    "\n",
    "\n",
    "@pytest.fixture\n",
    "def survey_fixture():\n",
    "    \"\"\"提供一个默认的调查实例作为测试夹具\"\"\"\n",
    "    question = \"What languages do you speak?\"\n",
    "    return AnonymousSurvey(question)\n",
    "\n",
    "\n",
    "@pytest.fixture\n",
    "def multiple_responses():\n",
    "    \"\"\"提供多个测试响应作为夹具\"\"\"\n",
    "    return ['English', 'Spanish', 'Mandarin']\n",
    "\n",
    "\n",
    "def test_store_single_response(survey_fixture):\n",
    "    \"\"\"测试单个答案是否会被妥善存储\"\"\"\n",
    "    survey_fixture.store_response('English')\n",
    "    assert 'English' in survey_fixture.responses\n",
    "\n",
    "\n",
    "def test_store_multiple_responses(survey_fixture, multiple_responses):\n",
    "    \"\"\"测试多个答案是否会被妥善存储\"\"\"\n",
    "    for response in multiple_responses:\n",
    "        survey_fixture.store_response(response)\n",
    "\n",
    "    for response in multiple_responses:\n",
    "        assert response in survey_fixture.responses\n",
    "\n",
    "\n",
    "def test_response_count(survey_fixture, multiple_responses):\n",
    "    \"\"\"测试响应计数是否正确\"\"\"\n",
    "    initial_count = len(survey_fixture.responses)\n",
    "\n",
    "    for response in multiple_responses:\n",
    "        survey_fixture.store_response(response)\n",
    "\n",
    "    assert len(survey_fixture.responses) == initial_count + len(multiple_responses)"
   ],
   "id": "a05c8693e70f23a1",
   "outputs": [
    {
     "name": "stdout",
     "output_type": "stream",
     "text": [
      "Writing ../test/test_survey_plus.py\n"
     ]
    }
   ],
   "execution_count": 32
  }
 ],
 "metadata": {
  "kernelspec": {
   "display_name": "Python 3",
   "language": "python",
   "name": "python3"
  },
  "language_info": {
   "codemirror_mode": {
    "name": "ipython",
    "version": 2
   },
   "file_extension": ".py",
   "mimetype": "text/x-python",
   "name": "python",
   "nbconvert_exporter": "python",
   "pygments_lexer": "ipython2",
   "version": "2.7.6"
  }
 },
 "nbformat": 4,
 "nbformat_minor": 5
}
