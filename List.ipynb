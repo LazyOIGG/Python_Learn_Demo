{
 "cells": [
  {
   "cell_type": "code",
   "id": "initial_id",
   "metadata": {
    "collapsed": true,
    "ExecuteTime": {
     "end_time": "2025-03-26T09:21:57.895550Z",
     "start_time": "2025-03-26T09:21:57.889352Z"
    }
   },
   "source": [
    "# 1. 创建列表\n",
    "llms = ['DeepSeek', 'Grok3', 'OpenAI', 'Qwen']\n",
    "print(\"原始列表:\", llms)"
   ],
   "outputs": [
    {
     "name": "stdout",
     "output_type": "stream",
     "text": [
      "原始列表: ['DeepSeek', 'Grok3', 'OpenAI', 'Qwen']\n"
     ]
    }
   ],
   "execution_count": 1
  },
  {
   "metadata": {
    "ExecuteTime": {
     "end_time": "2025-03-26T09:22:00.628790Z",
     "start_time": "2025-03-26T09:22:00.623602Z"
    }
   },
   "cell_type": "code",
   "source": [
    "# 2. 访问元素\n",
    "print(\"\\n=== 访问元素 ===\")\n",
    "print(\"第一个元素:\", llms[0])       # 正向索引\n",
    "print(\"最后一个元素:\", llms[-1])    # 负索引\n",
    "print(\"前两个元素:\", llms[:2])     # 切片"
   ],
   "id": "877892e219e70b7f",
   "outputs": [
    {
     "name": "stdout",
     "output_type": "stream",
     "text": [
      "\n",
      "=== 访问元素 ===\n",
      "第一个元素: DeepSeek\n",
      "最后一个元素: Qwen\n",
      "前两个元素: ['DeepSeek', 'Grok3']\n"
     ]
    }
   ],
   "execution_count": 2
  },
  {
   "metadata": {
    "ExecuteTime": {
     "end_time": "2025-03-26T09:22:05.610683Z",
     "start_time": "2025-03-26T09:22:05.605493Z"
    }
   },
   "cell_type": "code",
   "source": [
    "# 3. 修改列表\n",
    "print(\"\\n=== 修改列表 ===\")\n",
    "llms[1] = 'Grok-3'  # 修改单个元素\n",
    "print(\"修改第二个元素后:\", llms)\n",
    "\n",
    "llms[1:3] = ['Grok3', 'OpenAI-X']  # 修改切片\n",
    "print(\"修改切片后:\", llms)"
   ],
   "id": "830d366097096f13",
   "outputs": [
    {
     "name": "stdout",
     "output_type": "stream",
     "text": [
      "\n",
      "=== 修改列表 ===\n",
      "修改第二个元素后: ['DeepSeek', 'Grok-3', 'OpenAI', 'Qwen']\n",
      "修改切片后: ['DeepSeek', 'Grok3', 'OpenAI-X', 'Qwen']\n"
     ]
    }
   ],
   "execution_count": 3
  },
  {
   "metadata": {
    "ExecuteTime": {
     "end_time": "2025-03-26T09:22:12.243366Z",
     "start_time": "2025-03-26T09:22:12.238175Z"
    }
   },
   "cell_type": "code",
   "source": [
    "# 4. 增加元素\n",
    "print(\"\\n=== 增加元素 ===\")\n",
    "llms.append('Claude')  # 末尾添加\n",
    "print(\"append后:\", llms)\n",
    "\n",
    "llms.insert(2, 'Gemini')  # 指定位置插入\n",
    "print(\"insert后:\", llms)\n",
    "\n",
    "llms.extend(['Mistral', 'LLaMA'])  # 合并列表\n",
    "print(\"extend后:\", llms)"
   ],
   "id": "3d103662d66c894d",
   "outputs": [
    {
     "name": "stdout",
     "output_type": "stream",
     "text": [
      "\n",
      "=== 增加元素 ===\n",
      "append后: ['DeepSeek', 'Grok3', 'OpenAI-X', 'Qwen', 'Claude']\n",
      "insert后: ['DeepSeek', 'Grok3', 'Gemini', 'OpenAI-X', 'Qwen', 'Claude']\n",
      "extend后: ['DeepSeek', 'Grok3', 'Gemini', 'OpenAI-X', 'Qwen', 'Claude', 'Mistral', 'LLaMA']\n"
     ]
    }
   ],
   "execution_count": 4
  },
  {
   "metadata": {
    "ExecuteTime": {
     "end_time": "2025-03-26T09:22:19.263470Z",
     "start_time": "2025-03-26T09:22:19.258162Z"
    }
   },
   "cell_type": "code",
   "source": [
    "# 5. 删除元素\n",
    "print(\"\\n=== 删除元素 ===\")\n",
    "removed = llms.remove('OpenAI-X')  # 删除指定值\n",
    "print(\"remove后:\", llms)\n",
    "\n",
    "popped = llms.pop(3)  # 删除并返回指定位置元素\n",
    "print(f\"pop后: {llms}, 被删除的元素: {popped}\")\n",
    "\n",
    "del llms[-1]  # 删除最后一个元素\n",
    "print(\"del后:\", llms)\n",
    "\n",
    "llms.clear()  # 清空列表\n",
    "print(\"clear后:\", llms)\n",
    "\n",
    "# 恢复列表\n",
    "llms = ['DeepSeek', 'Grok3', 'OpenAI', 'Qwen']"
   ],
   "id": "ad4f4bf6ddb45315",
   "outputs": [
    {
     "name": "stdout",
     "output_type": "stream",
     "text": [
      "\n",
      "=== 删除元素 ===\n",
      "remove后: ['DeepSeek', 'Grok3', 'Gemini', 'Qwen', 'Claude', 'Mistral', 'LLaMA']\n",
      "pop后: ['DeepSeek', 'Grok3', 'Gemini', 'Claude', 'Mistral', 'LLaMA'], 被删除的元素: Qwen\n",
      "del后: ['DeepSeek', 'Grok3', 'Gemini', 'Claude', 'Mistral']\n",
      "clear后: []\n"
     ]
    }
   ],
   "execution_count": 5
  },
  {
   "metadata": {
    "ExecuteTime": {
     "end_time": "2025-03-26T09:22:25.601146Z",
     "start_time": "2025-03-26T09:22:25.596451Z"
    }
   },
   "cell_type": "code",
   "source": [
    "# 6. 查找元素\n",
    "print(\"\\n=== 查找元素 ===\")\n",
    "print(\"'OpenAI'的索引:\", llms.index('OpenAI'))\n",
    "print(\"'Qwen'是否在列表中:\", 'Qwen' in llms)\n",
    "print(\"'Claude'是否在列表中:\", 'Claude' in llms)"
   ],
   "id": "57d1093ec282d84d",
   "outputs": [
    {
     "name": "stdout",
     "output_type": "stream",
     "text": [
      "\n",
      "=== 查找元素 ===\n",
      "'OpenAI'的索引: 2\n",
      "'Qwen'是否在列表中: True\n",
      "'Claude'是否在列表中: False\n"
     ]
    }
   ],
   "execution_count": 6
  },
  {
   "metadata": {
    "ExecuteTime": {
     "end_time": "2025-03-26T09:22:34.462333Z",
     "start_time": "2025-03-26T09:22:34.457644Z"
    }
   },
   "cell_type": "code",
   "source": [
    "# 7. 排序和反转\n",
    "print(\"\\n=== 排序和反转 ===\")\n",
    "llms.sort()  # 默认升序\n",
    "print(\"sort后:\", llms)\n",
    "\n",
    "llms.sort(reverse=True)  # 降序\n",
    "print(\"降序sort后:\", llms)\n",
    "\n",
    "llms.reverse()  # 反转\n",
    "print(\"reverse后:\", llms)\n",
    "\n",
    "# 使用sorted不改变原列表\n",
    "sorted_llms = sorted(llms)\n",
    "print(\"sorted结果:\", sorted_llms)\n",
    "print(\"原列表未改变:\", llms)"
   ],
   "id": "541f084931635c0f",
   "outputs": [
    {
     "name": "stdout",
     "output_type": "stream",
     "text": [
      "\n",
      "=== 排序和反转 ===\n",
      "sort后: ['DeepSeek', 'Grok3', 'OpenAI', 'Qwen']\n",
      "降序sort后: ['Qwen', 'OpenAI', 'Grok3', 'DeepSeek']\n",
      "reverse后: ['DeepSeek', 'Grok3', 'OpenAI', 'Qwen']\n",
      "sorted结果: ['DeepSeek', 'Grok3', 'OpenAI', 'Qwen']\n",
      "原列表未改变: ['DeepSeek', 'Grok3', 'OpenAI', 'Qwen']\n"
     ]
    }
   ],
   "execution_count": 7
  },
  {
   "metadata": {
    "ExecuteTime": {
     "end_time": "2025-03-26T09:22:44.572788Z",
     "start_time": "2025-03-26T09:22:44.567377Z"
    }
   },
   "cell_type": "code",
   "source": [
    "# 8. 遍历列表\n",
    "print(\"\\n=== 遍历列表 ===\")\n",
    "print(\"直接遍历:\")\n",
    "for llm in llms:\n",
    "    print(f\"- {llm}\")\n",
    "\n",
    "print(\"\\n带索引遍历:\")\n",
    "for i, llm in enumerate(llms):\n",
    "    print(f\"{i}. {llm}\")\n",
    "\n",
    "# 假设有对应的年份数据\n",
    "years = [2023, 2024, 2015, 2021]\n",
    "print(\"\\n并行遍历:\")\n",
    "for llm, year in zip(llms, years):\n",
    "    print(f\"{llm} 发布于 {year}\")"
   ],
   "id": "5f69405b8606f8f0",
   "outputs": [
    {
     "name": "stdout",
     "output_type": "stream",
     "text": [
      "\n",
      "=== 遍历列表 ===\n",
      "直接遍历:\n",
      "- DeepSeek\n",
      "- Grok3\n",
      "- OpenAI\n",
      "- Qwen\n",
      "\n",
      "带索引遍历:\n",
      "0. DeepSeek\n",
      "1. Grok3\n",
      "2. OpenAI\n",
      "3. Qwen\n",
      "\n",
      "并行遍历:\n",
      "DeepSeek 发布于 2023\n",
      "Grok3 发布于 2024\n",
      "OpenAI 发布于 2015\n",
      "Qwen 发布于 2021\n"
     ]
    }
   ],
   "execution_count": 8
  },
  {
   "metadata": {
    "ExecuteTime": {
     "end_time": "2025-03-26T09:22:50.047725Z",
     "start_time": "2025-03-26T09:22:50.042386Z"
    }
   },
   "cell_type": "code",
   "source": [
    "# 9. 列表推导式\n",
    "print(\"\\n=== 列表推导式 ===\")\n",
    "# 生成所有LLM的大写版本\n",
    "uppercase_llms = [llm.upper() for llm in llms]\n",
    "print(\"大写版本:\", uppercase_llms)\n",
    "\n",
    "# 生成名称长度大于5的LLM\n",
    "long_names = [llm for llm in llms if len(llm) > 5]\n",
    "print(\"长度>5的名称:\", long_names)\n",
    "\n",
    "# 生成名称和长度的元组列表\n",
    "llm_lengths = [(llm, len(llm)) for llm in llms]\n",
    "print(\"名称和长度:\", llm_lengths)"
   ],
   "id": "9909a9bc05c00afc",
   "outputs": [
    {
     "name": "stdout",
     "output_type": "stream",
     "text": [
      "\n",
      "=== 列表推导式 ===\n",
      "大写版本: ['DEEPSEEK', 'GROK3', 'OPENAI', 'QWEN']\n",
      "长度>5的名称: ['DeepSeek', 'OpenAI']\n",
      "名称和长度: [('DeepSeek', 8), ('Grok3', 5), ('OpenAI', 6), ('Qwen', 4)]\n"
     ]
    }
   ],
   "execution_count": 9
  },
  {
   "metadata": {
    "ExecuteTime": {
     "end_time": "2025-03-26T09:22:55.731183Z",
     "start_time": "2025-03-26T09:22:55.726865Z"
    }
   },
   "cell_type": "code",
   "source": [
    "# 10. 其他常用操作\n",
    "print(\"\\n=== 其他常用操作 ===\")\n",
    "# 复制列表\n",
    "llms_copy = llms.copy()\n",
    "print(\"复制列表:\", llms_copy)\n",
    "\n",
    "# 列表长度\n",
    "print(\"列表长度:\", len(llms))\n",
    "\n",
    "# 统计元素出现次数\n",
    "print(\"'DeepSeek'出现次数:\", llms.count('DeepSeek'))\n",
    "\n",
    "# 连接列表\n",
    "new_llms = llms + ['Claude', 'Gemini']\n",
    "print(\"连接后的列表:\", new_llms)\n",
    "\n",
    "# 重复列表\n",
    "print(\"重复列表:\", llms * 2)"
   ],
   "id": "bbc42c97407a3262",
   "outputs": [
    {
     "name": "stdout",
     "output_type": "stream",
     "text": [
      "\n",
      "=== 其他常用操作 ===\n",
      "复制列表: ['DeepSeek', 'Grok3', 'OpenAI', 'Qwen']\n",
      "列表长度: 4\n",
      "'DeepSeek'出现次数: 1\n",
      "连接后的列表: ['DeepSeek', 'Grok3', 'OpenAI', 'Qwen', 'Claude', 'Gemini']\n",
      "重复列表: ['DeepSeek', 'Grok3', 'OpenAI', 'Qwen', 'DeepSeek', 'Grok3', 'OpenAI', 'Qwen']\n"
     ]
    }
   ],
   "execution_count": 10
  },
  {
   "metadata": {},
   "cell_type": "code",
   "outputs": [],
   "execution_count": null,
   "source": "",
   "id": "c5efbb764e2188b3"
  }
 ],
 "metadata": {
  "kernelspec": {
   "display_name": "Python 3",
   "language": "python",
   "name": "python3"
  },
  "language_info": {
   "codemirror_mode": {
    "name": "ipython",
    "version": 2
   },
   "file_extension": ".py",
   "mimetype": "text/x-python",
   "name": "python",
   "nbconvert_exporter": "python",
   "pygments_lexer": "ipython2",
   "version": "2.7.6"
  }
 },
 "nbformat": 4,
 "nbformat_minor": 5
}
