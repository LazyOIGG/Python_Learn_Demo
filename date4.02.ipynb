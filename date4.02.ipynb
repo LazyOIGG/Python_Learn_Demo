{
 "cells": [
  {
   "cell_type": "code",
   "id": "initial_id",
   "metadata": {
    "collapsed": true,
    "ExecuteTime": {
     "end_time": "2025-04-02T08:54:36.357830Z",
     "start_time": "2025-04-02T08:54:36.343898Z"
    }
   },
   "source": [
    "# 列表切片，切片得：浅副本; [start:end:step]\n",
    "universities = ['云大','清华','北大','浙大','交大']\n",
    "\n",
    "# # 1.取前三个元素\n",
    "# u_3 = universities[:3]\n",
    "# print(u_3)\n",
    "# # 对切片副本添加\n",
    "# u_3.append('Stanford')\n",
    "# print(u_3)\n",
    "# # 不影响原来列表\n",
    "# print(universities)\n",
    "\n",
    "# # 2.取最后两个元素\n",
    "# print(universities[-2:])\n",
    "\n",
    "# # 3.排除首尾元素\n",
    "# print(universities[1:-1])\n",
    "\n",
    "# # 4.反转列表\n",
    "# # 4.1不用切片\n",
    "# universities.reverse()\n",
    "# print(universities)\n",
    "# # 4.2用切片\n",
    "# print(universities[::-1])\n",
    "\n",
    "# # 5.每隔2个元素取一个\n",
    "# print(universities[::2])\n",
    "\n",
    "# # 6.直接得到原列表的简单副本\n",
    "# print(universities[:]) #浅拷贝\n",
    "\n",
    "# # 7.注意：在Python中，切片操作(slicing)确实会创建一个新的列表对象，但这个新列表与原列表之间的关系需要根据列表元素的类型来区分\n",
    "# # 7.1 当列表元素都是不可变类型时（如数值、字符串、元组、布尔值等），切片操作实际上创建了一个包含这些元素引用的新列表，但由于元素本身不可变，行为上等同于深拷贝(deep copy)\n",
    "# original = [1, 2, \"hello\", (3, 4)]\n",
    "# sliced = original[1:3]  # 创建新列表 [2, \"hello\"]\n",
    "# sliced[0] = 100  # 修改切片不会影响原列表\n",
    "# print(original)  # [1, 2, \"hello\", (3, 4)] 不受影响\n",
    "# # 7.2 当列表包含可变类型元素（如列表、字典、集合等）时，切片操作创建的是浅拷贝(shallow copy) - 新列表包含对原可变元素的引用\n",
    "# original = [[1, 2], {\"a\": 3}]\n",
    "# sliced = original[:]  # 浅拷贝\n",
    "# sliced[0].append(3)  # 修改嵌套的可变对象\n",
    "# print(original)  # [[1, 2, 3], {\"a\": 3}] 原列表被影响\n",
    "# sliced[1] = \"new\"  # 替换整个元素\n",
    "# print(original)  # [[1, 2, 3], {\"a\": 3}] 原列表不受影响"
   ],
   "outputs": [
    {
     "name": "stdout",
     "output_type": "stream",
     "text": [
      "[1, 2, 'hello', (3, 4)]\n",
      "[[1, 2, 3], {'a': 3}]\n",
      "[[1, 2, 3], {'a': 3}]\n"
     ]
    }
   ],
   "execution_count": 10
  },
  {
   "metadata": {
    "ExecuteTime": {
     "end_time": "2025-04-02T08:59:16.308154Z",
     "start_time": "2025-04-02T08:59:16.296491Z"
    }
   },
   "cell_type": "code",
   "source": [
    "# 浅拷贝与深拷贝的区别：\n",
    "# 浅拷贝：只复制最外层容器，共享内部对象的引用\n",
    "# 深拷贝：递归复制所有嵌套对象，创建完全独立的副本\n",
    "# 如何实现深拷贝：\n",
    "import copy\n",
    "original = [[1, 2], {\"a\": 3}]\n",
    "deep_copied = copy.deepcopy(original)\n",
    "deep_copied.append([3, 4])\n",
    "print(deep_copied)\n",
    "print(original)\n",
    "# 切片与赋值操作的区别：\n",
    "a = [1, 2, 3]\n",
    "b = a[:]  # 创建新列表（浅拷贝）\n",
    "c = a  # 只是创建新引用，指向同一个列表\n",
    "print(a)\n",
    "print(b)\n",
    "print(c)"
   ],
   "id": "7977eba727d4098c",
   "outputs": [
    {
     "name": "stdout",
     "output_type": "stream",
     "text": [
      "[[1, 2], {'a': 3}, [3, 4]]\n",
      "[[1, 2], {'a': 3}]\n",
      "[1, 2, 3]\n",
      "[1, 2, 3]\n",
      "[1, 2, 3]\n"
     ]
    }
   ],
   "execution_count": 14
  },
  {
   "metadata": {},
   "cell_type": "code",
   "outputs": [],
   "execution_count": null,
   "source": "",
   "id": "bd185b4341b6197d"
  }
 ],
 "metadata": {
  "kernelspec": {
   "display_name": "Python 3",
   "language": "python",
   "name": "python3"
  },
  "language_info": {
   "codemirror_mode": {
    "name": "ipython",
    "version": 2
   },
   "file_extension": ".py",
   "mimetype": "text/x-python",
   "name": "python",
   "nbconvert_exporter": "python",
   "pygments_lexer": "ipython2",
   "version": "2.7.6"
  }
 },
 "nbformat": 4,
 "nbformat_minor": 5
}
