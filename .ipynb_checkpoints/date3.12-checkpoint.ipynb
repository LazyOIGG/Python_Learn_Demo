{
 "cells": [
  {
   "cell_type": "code",
   "execution_count": 3,
   "id": "a8320eee-7360-47a7-997d-703376e7e784",
   "metadata": {},
   "outputs": [
    {
     "name": "stdout",
     "output_type": "stream",
     "text": [
      "3.14\n",
      "<class 'float'>\n"
     ]
    }
   ],
   "source": [
    "# 常用类型及字面值：字符串\n",
    "# 整型、浮点型、字符串、任意的对象\n",
    "# 一切皆对象\n",
    "pi = 3.14\n",
    "type(pi)\n",
    "print(pi)\n",
    "print(type(pi))"
   ]
  },
  {
   "cell_type": "code",
   "execution_count": 2,
   "id": "4634a624-1576-4241-83e4-fb96dab254cf",
   "metadata": {},
   "outputs": [
    {
     "data": {
      "text/plain": [
       "[0, 1, 1, 2, 3, 5, 8, 13, 21, 34]"
      ]
     },
     "execution_count": 2,
     "metadata": {},
     "output_type": "execute_result"
    }
   ],
   "source": [
    "# 计算斐波那契数列\n",
    "def fibonacci(n):\n",
    "    a, b = 0, 1\n",
    "    result = []\n",
    "    for _ in range(n):\n",
    "        result.append(a)\n",
    "        a, b = b, a + b\n",
    "    return result\n",
    "\n",
    "fibonacci(10)"
   ]
  },
  {
   "cell_type": "code",
   "execution_count": 12,
   "id": "40761f74-23d6-4487-9a7b-77df182b659e",
   "metadata": {},
   "outputs": [
    {
     "name": "stdout",
     "output_type": "stream",
     "text": [
      "Hello Python World\n",
      "\n",
      "Hello Python World\n",
      "\n",
      "\"ChatGPT\"\n",
      "\"DeepSeek\"\n",
      "\"mannus\"\n"
     ]
    }
   ],
   "source": [
    "# 字符串\n",
    "str1 = 'Hello Python World\\n'\n",
    "print(str1)\n",
    "\n",
    "str2 = \"Hello Python World\\n\"\n",
    "print(str2)\n",
    "\n",
    "str3 = '''\"ChatGPT\"\n",
    "\"DeepSeek\"\n",
    "\"mannus\"'''\n",
    "print(str3)"
   ]
  },
  {
   "cell_type": "code",
   "execution_count": null,
   "id": "bb2af3aa-cb72-4e47-830f-98bf0ad2a36d",
   "metadata": {},
   "outputs": [],
   "source": []
  }
 ],
 "metadata": {
  "kernelspec": {
   "display_name": "Python 3 (ipykernel)",
   "language": "python",
   "name": "python3"
  },
  "language_info": {
   "codemirror_mode": {
    "name": "ipython",
    "version": 3
   },
   "file_extension": ".py",
   "mimetype": "text/x-python",
   "name": "python",
   "nbconvert_exporter": "python",
   "pygments_lexer": "ipython3",
   "version": "3.13.2"
  }
 },
 "nbformat": 4,
 "nbformat_minor": 5
}
