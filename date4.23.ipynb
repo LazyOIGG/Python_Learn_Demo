{
 "cells": [
  {
   "metadata": {},
   "cell_type": "markdown",
   "source": [
    "# Python字典示例：用户验证\n",
    "## 用户输入密码加密，循环验证用户输入密码合法性"
   ],
   "id": "fe54690512348450"
  },
  {
   "metadata": {
    "ExecuteTime": {
     "end_time": "2025-04-30T09:02:37.144266Z",
     "start_time": "2025-04-30T09:02:34.403674Z"
    }
   },
   "cell_type": "code",
   "outputs": [
    {
     "name": "stdout",
     "output_type": "stream",
     "text": [
      "=== 用户注册 ===\n"
     ]
    },
    {
     "ename": "KeyboardInterrupt",
     "evalue": "Interrupted by user",
     "output_type": "error",
     "traceback": [
      "\u001B[31m---------------------------------------------------------------------------\u001B[39m",
      "\u001B[31mKeyboardInterrupt\u001B[39m                         Traceback (most recent call last)",
      "\u001B[36mCell\u001B[39m\u001B[36m \u001B[39m\u001B[32mIn[1]\u001B[39m\u001B[32m, line 87\u001B[39m\n\u001B[32m     85\u001B[39m \u001B[38;5;28;01mif\u001B[39;00m \u001B[34m__name__\u001B[39m == \u001B[33m\"\u001B[39m\u001B[33m__main__\u001B[39m\u001B[33m\"\u001B[39m:\n\u001B[32m     86\u001B[39m     \u001B[38;5;28mprint\u001B[39m(\u001B[33m\"\u001B[39m\u001B[33m=== 用户注册 ===\u001B[39m\u001B[33m\"\u001B[39m)\n\u001B[32m---> \u001B[39m\u001B[32m87\u001B[39m     \u001B[43mregister_user\u001B[49m\u001B[43m(\u001B[49m\u001B[43m)\u001B[49m\n\u001B[32m     89\u001B[39m     \u001B[38;5;28mprint\u001B[39m(\u001B[33m\"\u001B[39m\u001B[38;5;130;01m\\n\u001B[39;00m\u001B[33m=== 登录验证 ===\u001B[39m\u001B[33m\"\u001B[39m)\n\u001B[32m     90\u001B[39m     \u001B[38;5;28;01mwhile\u001B[39;00m \u001B[38;5;129;01mnot\u001B[39;00m login():\n",
      "\u001B[36mCell\u001B[39m\u001B[36m \u001B[39m\u001B[32mIn[1]\u001B[39m\u001B[32m, line 28\u001B[39m, in \u001B[36mregister_user\u001B[39m\u001B[34m()\u001B[39m\n\u001B[32m     27\u001B[39m \u001B[38;5;28;01mdef\u001B[39;00m\u001B[38;5;250m \u001B[39m\u001B[34mregister_user\u001B[39m():\n\u001B[32m---> \u001B[39m\u001B[32m28\u001B[39m     username = \u001B[38;5;28;43minput\u001B[39;49m\u001B[43m(\u001B[49m\u001B[33;43m\"\u001B[39;49m\u001B[33;43m注册用户名：\u001B[39;49m\u001B[33;43m\"\u001B[39;49m\u001B[43m)\u001B[49m\n\u001B[32m     29\u001B[39m     \u001B[38;5;28;01mwhile\u001B[39;00m username \u001B[38;5;129;01min\u001B[39;00m users:\n\u001B[32m     30\u001B[39m         \u001B[38;5;28mprint\u001B[39m(\u001B[33m\"\u001B[39m\u001B[33m用户名已存在\u001B[39m\u001B[33m\"\u001B[39m)\n",
      "\u001B[36mFile \u001B[39m\u001B[32mE:\\Python\\Python313\\Lib\\site-packages\\ipykernel\\kernelbase.py:1282\u001B[39m, in \u001B[36mKernel.raw_input\u001B[39m\u001B[34m(self, prompt)\u001B[39m\n\u001B[32m   1280\u001B[39m     msg = \u001B[33m\"\u001B[39m\u001B[33mraw_input was called, but this frontend does not support input requests.\u001B[39m\u001B[33m\"\u001B[39m\n\u001B[32m   1281\u001B[39m     \u001B[38;5;28;01mraise\u001B[39;00m StdinNotImplementedError(msg)\n\u001B[32m-> \u001B[39m\u001B[32m1282\u001B[39m \u001B[38;5;28;01mreturn\u001B[39;00m \u001B[38;5;28;43mself\u001B[39;49m\u001B[43m.\u001B[49m\u001B[43m_input_request\u001B[49m\u001B[43m(\u001B[49m\n\u001B[32m   1283\u001B[39m \u001B[43m    \u001B[49m\u001B[38;5;28;43mstr\u001B[39;49m\u001B[43m(\u001B[49m\u001B[43mprompt\u001B[49m\u001B[43m)\u001B[49m\u001B[43m,\u001B[49m\n\u001B[32m   1284\u001B[39m \u001B[43m    \u001B[49m\u001B[38;5;28;43mself\u001B[39;49m\u001B[43m.\u001B[49m\u001B[43m_parent_ident\u001B[49m\u001B[43m[\u001B[49m\u001B[33;43m\"\u001B[39;49m\u001B[33;43mshell\u001B[39;49m\u001B[33;43m\"\u001B[39;49m\u001B[43m]\u001B[49m\u001B[43m,\u001B[49m\n\u001B[32m   1285\u001B[39m \u001B[43m    \u001B[49m\u001B[38;5;28;43mself\u001B[39;49m\u001B[43m.\u001B[49m\u001B[43mget_parent\u001B[49m\u001B[43m(\u001B[49m\u001B[33;43m\"\u001B[39;49m\u001B[33;43mshell\u001B[39;49m\u001B[33;43m\"\u001B[39;49m\u001B[43m)\u001B[49m\u001B[43m,\u001B[49m\n\u001B[32m   1286\u001B[39m \u001B[43m    \u001B[49m\u001B[43mpassword\u001B[49m\u001B[43m=\u001B[49m\u001B[38;5;28;43;01mFalse\u001B[39;49;00m\u001B[43m,\u001B[49m\n\u001B[32m   1287\u001B[39m \u001B[43m\u001B[49m\u001B[43m)\u001B[49m\n",
      "\u001B[36mFile \u001B[39m\u001B[32mE:\\Python\\Python313\\Lib\\site-packages\\ipykernel\\kernelbase.py:1325\u001B[39m, in \u001B[36mKernel._input_request\u001B[39m\u001B[34m(self, prompt, ident, parent, password)\u001B[39m\n\u001B[32m   1322\u001B[39m \u001B[38;5;28;01mexcept\u001B[39;00m \u001B[38;5;167;01mKeyboardInterrupt\u001B[39;00m:\n\u001B[32m   1323\u001B[39m     \u001B[38;5;66;03m# re-raise KeyboardInterrupt, to truncate traceback\u001B[39;00m\n\u001B[32m   1324\u001B[39m     msg = \u001B[33m\"\u001B[39m\u001B[33mInterrupted by user\u001B[39m\u001B[33m\"\u001B[39m\n\u001B[32m-> \u001B[39m\u001B[32m1325\u001B[39m     \u001B[38;5;28;01mraise\u001B[39;00m \u001B[38;5;167;01mKeyboardInterrupt\u001B[39;00m(msg) \u001B[38;5;28;01mfrom\u001B[39;00m\u001B[38;5;250m \u001B[39m\u001B[38;5;28;01mNone\u001B[39;00m\n\u001B[32m   1326\u001B[39m \u001B[38;5;28;01mexcept\u001B[39;00m \u001B[38;5;167;01mException\u001B[39;00m:\n\u001B[32m   1327\u001B[39m     \u001B[38;5;28mself\u001B[39m.log.warning(\u001B[33m\"\u001B[39m\u001B[33mInvalid Message:\u001B[39m\u001B[33m\"\u001B[39m, exc_info=\u001B[38;5;28;01mTrue\u001B[39;00m)\n",
      "\u001B[31mKeyboardInterrupt\u001B[39m: Interrupted by user"
     ]
    }
   ],
   "execution_count": 1,
   "source": [
    "import hashlib  # 数据加密与完整性交易的核心\n",
    "import hmac  # 适用于API签名，安全通信等场景\n",
    "import os  # 跨平台操作\n",
    "\n",
    "# 用户数据库（新增注册功能）\n",
    "users = {}\n",
    "\n",
    "\n",
    "def hash_password(password1: str, salt: str) -> str:\n",
    "    \"\"\"使用PBKDF2_HMAC算法对密码进行加盐哈希\"\"\"\n",
    "    # 参数说明：\n",
    "    # hashlib.sha256 - 使用SHA-256哈希算法\n",
    "    # password.encode() - 将密码字符串转为bytes\n",
    "    # salt.encode() - 将盐字符串转为bytes\n",
    "    # 100000 - 迭代次数（增加计算成本，防止暴力破解）\n",
    "    # dklen=32 - 输出哈希长度（32字节=256位）\n",
    "    hashed = hashlib.pbkdf2_hmac(\n",
    "        'sha256',\n",
    "        password1.encode('utf-8'),\n",
    "        salt.encode('utf-8'),\n",
    "        100000,\n",
    "        dklen=32\n",
    "    )\n",
    "    return hashed.hex()  # 转换为十六进制字符串存储\n",
    "\n",
    "\n",
    "def register_user():\n",
    "    username = input(\"注册用户名：\")\n",
    "    while username in users:\n",
    "        print(\"用户名已存在\")\n",
    "        username = input(\"注册用户名：\")\n",
    "\n",
    "    while True:\n",
    "        password2 = input(\"设置密码(需包含大小写字母、数字且>=8位)：\")\n",
    "        if not re.match(r'^(?=.*[A-Z])(?=.*[a-z])(?=.*\\d).{8,}$', password2):\n",
    "            # re.match：Python的re模块中的函数，用于检查字符串是否匹配给定的正则表达式。\n",
    "            # ^ 和 $：分别表示字符串的开始和结束，确保整个密码字符串都符合规则。\n",
    "            # (?=.*[A-Z])：正向预查（positive lookahead），确保字符串中至少有一个大写字母（[A-Z]）。\n",
    "            # (?=.*[a-z])：正向预查，确保字符串中至少有一个小写字母（[a-z]）。\n",
    "            # (?=.*\\d)：正向预查，确保字符串中至少有一个数字（\\d）。\n",
    "            # .{8,}：匹配任意字符（.）至少8次（{8,}），确保密码长度至少为8。\n",
    "            # if not re.match(...)：如果密码不符合正则表达式的要求，则条件成立（进入if块）。\n",
    "            print(\"密码需要包含至少1个大写字母、1个小写字母和1个数字，且长度至少8位\")\n",
    "\n",
    "            continue\n",
    "        break\n",
    "\n",
    "    # 生成随机盐（16个字节=128位）\n",
    "    # 16*8-128位密码学安全随机数，并转换为16*2=32位十六进制字符串（每四位对应一个字符）\n",
    "    salt = os.urandom(16).hex()\n",
    "    # 存储加盐哈希后的密码\n",
    "    users[username] = {\n",
    "        'salt': salt,\n",
    "        'hashed_password': hash_password(password2, salt)\n",
    "    }\n",
    "    print(f\"用户 {username} 注册成功！\")\n",
    "\n",
    "\n",
    "def login():\n",
    "    username = input(\"用户名：\")\n",
    "    password3 = input(\"密码：\")\n",
    "\n",
    "    if username not in users:\n",
    "        print(\"用户不存在\")\n",
    "        return False\n",
    "\n",
    "    # 获取存储的盐和哈希密码\n",
    "    user_data = users[username]\n",
    "    stored_hash = user_data['hashed_password']\n",
    "    salt = user_data['salt']\n",
    "\n",
    "    # 对输入密码进行相同哈希计算\n",
    "    input_hash = hash_password(password3, salt)\n",
    "\n",
    "    # 安全比较哈希值（防止时序攻击）\n",
    "    if hmac.compare_digest(input_hash, stored_hash):\n",
    "        print(\"登录成功！\")\n",
    "        return True\n",
    "    else:\n",
    "        print(\"密码错误\")\n",
    "        return False\n",
    "\n",
    "\n",
    "# 测试示例\n",
    "if __name__ == \"__main__\":\n",
    "    print(\"=== 用户注册 ===\")\n",
    "    register_user()\n",
    "\n",
    "    print(\"\\n=== 登录验证 ===\")\n",
    "    while not login():\n",
    "        print(\"请重试...\")"
   ],
   "id": "1edd1f6841cd79d7"
  },
  {
   "metadata": {},
   "cell_type": "code",
   "outputs": [],
   "execution_count": null,
   "source": "",
   "id": "302a8c09803a546a"
  },
  {
   "metadata": {},
   "cell_type": "markdown",
   "source": [
    "# Python的海象运算符及应用场景示例\n",
    "* :=(形似海象的眼睛和獠牙而得名) Python3.8引入的新特性\n",
    "* 具备C赋值的强大，兼有条理清晰\n",
    "* 优势：减少冗余代码、提升性能、增强可读性"
   ],
   "id": "82ceb48097312eda"
  },
  {
   "metadata": {},
   "cell_type": "code",
   "outputs": [],
   "execution_count": null,
   "source": [
    "'''场景1: 条件表达式，将赋值和条件判断合并，减少代码行数'''\n",
    "# 传统写法\n",
    "user_input = input(\"请输入数字：\")\n",
    "if int(user_input) > 100:\n",
    "    print(f\"输入的值 {user_input} 过大\")\n",
    "\n",
    "# 使用海象运算符\n",
    "if (num := int(input(\"请输入数字：\"))) > 100:\n",
    "    print(f\"输入的值 {num} 过大\")\n",
    "\n",
    "'''场景2: 循环控制'''\n",
    "# 密码验证: 在while循环中直接获取用户输入并判断\n",
    "# 传统写法\n",
    "while True:\n",
    "    password = input(\"设置密码：\")\n",
    "    if len(password) >= 8:\n",
    "        break\n",
    "    print(\"密码需至少8位\")\n",
    "\n",
    "# 使用海象运算符\n",
    "while len(password := input(\"设置密码：\")) < 8:\n",
    "    print(\"密码需至少8位\")\n",
    "# 文件读取: 逐行读取文件内容避免冗余代码\n",
    "# 传统写法\n",
    "with open(\"data.txt\") as f:\n",
    "    line = f.readline()\n",
    "    while line:\n",
    "        print(line.strip())\n",
    "        line = f.readline()\n",
    "\n",
    "# 使用海象运算符\n",
    "with open(\"data.txt\") as f:\n",
    "    while line := f.readline():\n",
    "        print(line.strip())\n",
    "\n",
    "'''场景3: 列表推导式优化性能，避免重复计算函数结果'''\n",
    "import random\n",
    "\n",
    "# 传统写法（重复计算 random.randint）\n",
    "numbers = [random.randint(1, 100) for _ in range(10)]\n",
    "filtered_1 = [x for x in numbers if x % 2 == 0]\n",
    "\n",
    "# 使用海象运算符（避免重复计算）\n",
    "filtered_2 = [y for x in numbers if (y := x) % 2 == 0]\n",
    "\n",
    "# 更复杂场景：计算平方后筛选\n",
    "squares = [squared for num in numbers if (squared := num ** 2) > 50]\n",
    "\n",
    "'''场景4: 复杂条件判定'''\n",
    "# 检查多个条件是否满足（传统写法）\n",
    "data = {\"value\": 42}\n",
    "if \"value\" in data:\n",
    "    value = data[\"value\"]\n",
    "    if value > 0:\n",
    "        print(f\"正数: {value}\")\n",
    "\n",
    "# 使用海象运算符\n",
    "if (value := data.get(\"value\")) is not None and value > 0:\n",
    "    print(f\"正数: {value}\")\n",
    "\n",
    "# 正则表达式匹配\n",
    "import re\n",
    "\n",
    "text = \"Price: $99.99\"\n",
    "if match := re.search(r\"\\$(\\d+\\.\\d+)\", text):\n",
    "    print(f\"找到价格: {match.group(1)}\")"
   ],
   "id": "f43bb09708ede9d7"
  },
  {
   "metadata": {},
   "cell_type": "markdown",
   "source": "# Python函数",
   "id": "8f6ff3feb0605393"
  },
  {
   "metadata": {
    "ExecuteTime": {
     "end_time": "2025-04-23T09:26:34.176857Z",
     "start_time": "2025-04-23T09:26:34.169190Z"
    }
   },
   "cell_type": "code",
   "source": [
    "# 传递位置实参\n",
    "# 传递关键字实参\n",
    "def describe_pet(animal_type, pet_name):\n",
    "    \"\"\"Python函数内部文档\"\"\"\n",
    "    \"\"\"显示宠物信息\"\"\"\n",
    "    print(f\"\\nI have a {animal_type}.\")\n",
    "    print(f\"My {animal_type}'s name is {pet_name.title()}.\")\n",
    "\n",
    "\n",
    "describe_pet('dog', 'peter')\n",
    "describe_pet(animal_type='dog', pet_name='Chris')  # 通过关键字实参避免混乱"
   ],
   "id": "995be98c0c8f3489",
   "outputs": [
    {
     "name": "stdout",
     "output_type": "stream",
     "text": [
      "\n",
      "I have a dog.\n",
      "My dog's name is Peter.\n",
      "\n",
      "I have a dog.\n",
      "My dog's name is Chris.\n"
     ]
    }
   ],
   "execution_count": 4
  },
  {
   "metadata": {
    "ExecuteTime": {
     "end_time": "2025-04-23T09:33:30.997494Z",
     "start_time": "2025-04-23T09:33:30.988996Z"
    }
   },
   "cell_type": "code",
   "source": [
    "# 为每个形参确定缺省值\n",
    "# ！！！关键字实参必须在位置实参之后\n",
    "def describe_pet(pet_name, animal_type='dog'):\n",
    "    \"\"\"显示宠物信息\"\"\"\n",
    "    print(f\"\\nI have a {animal_type}.\")\n",
    "    print(f\"My {animal_type}'s name is {pet_name.title()}.\")\n",
    "\n",
    "\n",
    "describe_pet('jack')\n",
    "describe_pet(pet_name='jack')\n",
    "describe_pet(pet_name='maomao', animal_type='cat')  # 也可以不使用给定缺省值"
   ],
   "id": "c5215bb070e45d9d",
   "outputs": [
    {
     "name": "stdout",
     "output_type": "stream",
     "text": [
      "\n",
      "I have a dog.\n",
      "My dog's name is Jack.\n",
      "\n",
      "I have a dog.\n",
      "My dog's name is Jack.\n",
      "\n",
      "I have a cat.\n",
      "My cat's name is Maomao.\n"
     ]
    }
   ],
   "execution_count": 7
  }
 ],
 "metadata": {
  "kernelspec": {
   "display_name": "Python 3",
   "language": "python",
   "name": "python3"
  },
  "language_info": {
   "codemirror_mode": {
    "name": "ipython",
    "version": 2
   },
   "file_extension": ".py",
   "mimetype": "text/x-python",
   "name": "python",
   "nbconvert_exporter": "python",
   "pygments_lexer": "ipython2",
   "version": "2.7.6"
  }
 },
 "nbformat": 4,
 "nbformat_minor": 5
}
