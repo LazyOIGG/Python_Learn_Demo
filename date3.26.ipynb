{
 "cells": [
  {
   "cell_type": "code",
   "id": "06279743-4997-4fa7-9aa6-23d73939a93f",
   "metadata": {
    "ExecuteTime": {
     "end_time": "2025-03-26T08:24:26.251766Z",
     "start_time": "2025-03-26T08:24:26.246659Z"
    }
   },
   "source": [
    "# 注意单个字符与字符串在形式上一样的\n",
    "#ord()和chr()要求字符串长度为1\n",
    "ch = 'A'\n",
    "init_ascii = 13\n",
    "if 'A' <= ch <= 'Z':\n",
    "    init_ascii = ord('A')\n",
    "elif 'a' <= ch <= 'z':\n",
    "    init_ascii = ord('a')\n",
    "\n",
    "    #ch第一次ROT13的结果\n",
    "ch_rot13 = chr(init_ascii + (ord(ch) - init_ascii + 13) % 26)\n",
    "print(f\"'{ch}' 1st ROT13: {ch_rot13}\")\n",
    "ch = ch_rot13\n",
    "\n",
    "#ch第二次ROT13的结果\n",
    "ch_rot13 = chr(init_ascii + (ord(ch) - init_ascii + 13) % 26)\n",
    "print(f\"'{ch}' 2nd ROT13: {ch_rot13}\")\n",
    "ch = ch_rot13"
   ],
   "outputs": [
    {
     "name": "stdout",
     "output_type": "stream",
     "text": [
      "'A' 1st ROT13: N\n",
      "'N' 2nd ROT13: A\n"
     ]
    }
   ],
   "execution_count": 2
  },
  {
   "cell_type": "code",
   "execution_count": null,
   "id": "cee80bf3-f1c7-4e51-85b2-8529d731d6ec",
   "metadata": {},
   "outputs": [],
   "source": [
    "d = {}\n",
    "for c in (65,97):\n",
    "    for i in range(26):\n",
    "        d[chr(i+c)] = chr((i+13) % 26 + c)#说明d\n",
    "print(d)\n",
    "#说明[d.get(c,c) for c in s]\n",
    "print(\"\".join([d.get(c,c) for c in s]))"
   ]
  },
  {
   "metadata": {},
   "cell_type": "markdown",
   "source": "",
   "id": "688d50a8815d00fe"
  }
 ],
 "metadata": {
  "kernelspec": {
   "display_name": "Python 3 (ipykernel)",
   "language": "python",
   "name": "python3"
  },
  "language_info": {
   "codemirror_mode": {
    "name": "ipython",
    "version": 3
   },
   "file_extension": ".py",
   "mimetype": "text/x-python",
   "name": "python",
   "nbconvert_exporter": "python",
   "pygments_lexer": "ipython3",
   "version": "3.13.2"
  }
 },
 "nbformat": 4,
 "nbformat_minor": 5
}
