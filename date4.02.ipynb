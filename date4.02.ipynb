{
 "cells": [
  {
   "metadata": {},
   "cell_type": "markdown",
   "source": "列表切片，切片得：浅副本; [start:end:step]",
   "id": "cdd555ac7938021e"
  },
  {
   "metadata": {},
   "cell_type": "code",
   "outputs": [],
   "execution_count": null,
   "source": [
    "universities = ['云大','清华','北大','浙大','交大']\n",
    "\n",
    "# # 1.取前三个元素\n",
    "# u_3 = universities[:3]\n",
    "# print(u_3)\n",
    "# # 对切片副本添加\n",
    "# u_3.append('Stanford')\n",
    "# print(u_3)\n",
    "# # 不影响原来列表\n",
    "# print(universities)\n",
    "\n",
    "# # 2.取最后两个元素\n",
    "# print(universities[-2:])\n",
    "\n",
    "# # 3.排除首尾元素\n",
    "# print(universities[1:-1])\n",
    "\n",
    "# # 4.反转列表\n",
    "# # 4.1不用切片\n",
    "# universities.reverse()\n",
    "# print(universities)\n",
    "# # 4.2用切片\n",
    "# print(universities[::-1])\n",
    "\n",
    "# # 5.每隔2个元素取一个\n",
    "# print(universities[::2])\n",
    "\n",
    "# # 6.直接得到原列表的简单副本\n",
    "# print(universities[:]) #浅拷贝\n",
    "\n",
    "# # 7.注意：在Python中，切片操作(slicing)确实会创建一个新的列表对象，但这个新列表与原列表之间的关系需要根据列表元素的类型来区分\n",
    "# # 7.1 当列表元素都是不可变类型时（如数值、字符串、元组、布尔值等），切片操作实际上创建了一个包含这些元素引用的新列表，但由于元素本身不可变，行为上等同于深拷贝(deep copy)\n",
    "# original = [1, 2, \"hello\", (3, 4)]\n",
    "# sliced = original[1:3]  # 创建新列表 [2, \"hello\"]\n",
    "# sliced[0] = 100  # 修改切片不会影响原列表\n",
    "# print(original)  # [1, 2, \"hello\", (3, 4)] 不受影响\n",
    "# # 7.2 当列表包含可变类型元素（如列表、字典、集合等）时，切片操作创建的是浅拷贝(shallow copy) - 新列表包含对原可变元素的引用\n",
    "# original = [[1, 2], {\"a\": 3}]\n",
    "# sliced = original[:]  # 浅拷贝\n",
    "# sliced[0].append(3)  # 修改嵌套的可变对象\n",
    "# print(original)  # [[1, 2, 3], {\"a\": 3}] 原列表被影响\n",
    "# sliced[1] = \"new\"  # 替换整个元素\n",
    "# print(original)  # [[1, 2, 3], {\"a\": 3}] 原列表不受影响"
   ],
   "id": "69b460fc3b88bc85"
  },
  {
   "metadata": {},
   "cell_type": "markdown",
   "source": [
    "# 浅拷贝与深拷贝的区别：\n",
    "* 浅拷贝：只复制最外层容器，共享内部对象的引用\n",
    "* 深拷贝：递归复制所有嵌套对象，创建完全独立的副本"
   ],
   "id": "2c07291c12e6ba95"
  },
  {
   "metadata": {
    "ExecuteTime": {
     "end_time": "2025-04-02T08:59:16.308154Z",
     "start_time": "2025-04-02T08:59:16.296491Z"
    }
   },
   "cell_type": "code",
   "outputs": [
    {
     "name": "stdout",
     "output_type": "stream",
     "text": [
      "[[1, 2], {'a': 3}, [3, 4]]\n",
      "[[1, 2], {'a': 3}]\n",
      "[1, 2, 3]\n",
      "[1, 2, 3]\n",
      "[1, 2, 3]\n"
     ]
    }
   ],
   "execution_count": 14,
   "source": [
    "# 如何实现深拷贝：\n",
    "import copy\n",
    "original = [[1, 2], {\"a\": 3}]\n",
    "deep_copied = copy.deepcopy(original)\n",
    "deep_copied.append([3, 4])\n",
    "print(deep_copied)\n",
    "print(original)\n",
    "# 切片与赋值操作的区别：\n",
    "a = [1, 2, 3]\n",
    "b = a[:]  # 创建新列表（浅拷贝）\n",
    "c = a  # 只是创建新引用，指向同一个列表\n",
    "print(a)\n",
    "print(b)\n",
    "print(c)"
   ],
   "id": "7977eba727d4098c"
  },
  {
   "metadata": {
    "ExecuteTime": {
     "end_time": "2025-04-02T09:17:16.171363Z",
     "start_time": "2025-04-02T09:17:16.162995Z"
    }
   },
   "cell_type": "code",
   "outputs": [
    {
     "name": "stdout",
     "output_type": "stream",
     "text": [
      "(0, 100, 100)\n",
      "(10, 20, 30, 'add')\n"
     ]
    }
   ],
   "execution_count": 5,
   "source": [
    "# 元组：长度不变的列表，用圆括号标识\n",
    "coordination = ([10, 20], 30, 50)\n",
    "\n",
    "# 基本操作和列表相同\n",
    "# print(coordination[-1])\n",
    "\n",
    "# coordination[1] = 100 # 不可变元素直接修改报错\n",
    "\n",
    "# coordination[0].append(100)\n",
    "# print(coordination) # 可变元素可以修改\n",
    "\n",
    "def myfun(a,b):\n",
    "    return a, b, a+b # Python中函数返回多个值，结果自动组成元组\n",
    "result = myfun(0,100)\n",
    "print(result)\n",
    "\n",
    "lst = list(myfun(10,20))\n",
    "lst.append('add')\n",
    "result = tuple(lst)\n",
    "print(result)"
   ],
   "id": "bd185b4341b6197d"
  },
  {
   "metadata": {},
   "cell_type": "markdown",
   "source": [
    "# 条件表达式\n",
    "1. ==, ！=\n",
    "2. 可数值比较：>, >=, <, <=\n",
    "3. 布尔运算符：and, or, not(不是!) （c语言：&&, ||, !）"
   ],
   "id": "37fbd04440716b9d"
  },
  {
   "metadata": {
    "ExecuteTime": {
     "end_time": "2025-04-02T09:27:45.791391Z",
     "start_time": "2025-04-02T09:27:45.784810Z"
    }
   },
   "cell_type": "code",
   "outputs": [
    {
     "name": "stdout",
     "output_type": "stream",
     "text": [
      "Claude\n",
      "DEEPSEEK\n",
      "Openai\n",
      "Grok3\n",
      "Qwen\n"
     ]
    }
   ],
   "execution_count": 6,
   "source": [
    "# if语句\n",
    "# 1. if\n",
    "# 2. if-else\n",
    "# 3. if-elif-...-else\n",
    "llms = ['claude','deepseek','openai','grok3','qwen']\n",
    "for llm in llms:\n",
    "    if llm.lower() == 'deepseek':\n",
    "        print(llm.upper())\n",
    "    else:\n",
    "        print(llm.title())\n"
   ],
   "id": "d62946df25d035b4"
  }
 ],
 "metadata": {
  "kernelspec": {
   "display_name": "Python 3",
   "language": "python",
   "name": "python3"
  },
  "language_info": {
   "codemirror_mode": {
    "name": "ipython",
    "version": 2
   },
   "file_extension": ".py",
   "mimetype": "text/x-python",
   "name": "python",
   "nbconvert_exporter": "python",
   "pygments_lexer": "ipython2",
   "version": "2.7.6"
  }
 },
 "nbformat": 4,
 "nbformat_minor": 5
}
