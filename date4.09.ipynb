{
 "cells": [
  {
   "cell_type": "code",
   "id": "initial_id",
   "metadata": {
    "collapsed": true
   },
   "source": [
    "# if条件\n",
    "# 闰年判定举例\n",
    "special_years = [1900, 2000, 2020, 2024, 2025, 2026]\n",
    "\n",
    "for year in special_years:\n",
    "    if year%4==0 and year%100!=0 or year%400==0:\n",
    "        print(f\"{year} is a leap year\")\n",
    "\n",
    "#list comprehension 列表推导式\n",
    "leap_year = [year for year in special_years if year%4==0 and year%100!=0 or year%400==0]\n",
    "print(f\"{leap_year} is a leap year\")"
   ],
   "outputs": [],
   "execution_count": null
  },
  {
   "metadata": {},
   "cell_type": "code",
   "source": [
    "# 成绩等级判定\n",
    "score = float(input(\"请输入你的成绩: \"))\n",
    "if 90 <= score <= 100:\n",
    "    print(f\"{score} : A\")\n",
    "elif 80 <= score < 90:\n",
    "    print(f\"{score} : B\")\n",
    "elif 70 <= score < 80:\n",
    "    print(f\"{score} : C\")\n",
    "elif 60 <= score < 70:\n",
    "    print(f\"{score} : D\")\n",
    "else:\n",
    "    print(f\"你的成绩{score}是无效成绩！\")"
   ],
   "id": "3af3e9723e39bb93",
   "outputs": [],
   "execution_count": null
  },
  {
   "metadata": {},
   "cell_type": "code",
   "source": [
    "# 容器类型对象为空作为判定条件\n",
    "# 列表\n",
    "my_list = []\n",
    "if not my_list:  # 等价于 if len(my_list) == 0:\n",
    "    print(\"列表为空\")\n",
    "else:\n",
    "    print(\"列表不为空\")\n",
    "# 字符串\n",
    "my_str = \"\"\n",
    "if not my_str:  # 等价于 if len(my_str) == 0:\n",
    "    print(\"字符串为空\")\n",
    "else:\n",
    "    print(\"字符串不为空\")\n",
    "# 字典\n",
    "my_dict = {}\n",
    "if not my_dict:  # 等价于 if len(my_dict) == 0:\n",
    "    print(\"字典为空\")\n",
    "else:\n",
    "    print(\"字典不为空\")"
   ],
   "id": "558cbcdd73483b18",
   "outputs": [],
   "execution_count": null
  },
  {
   "metadata": {},
   "cell_type": "code",
   "source": [
    "# 字典\n",
    "llms = {'DeepSeek':'深度求索','ChatGPT 4.5':'OpenAI'}\n",
    "print(llms['DeepSeek'])\n",
    "print(llms['ChatGPT 4.5'])\n",
    "dict0 = {\"name\":\"Jack\", \"age\":18, \"weight\":65, \"height\":175}\n",
    "print(dict0)"
   ],
   "id": "cb1a45f4edb89281",
   "outputs": [],
   "execution_count": null
  },
  {
   "metadata": {},
   "cell_type": "markdown",
   "source": "# 字典CRUD",
   "id": "c86826c420c1e2b7"
  },
  {
   "metadata": {
    "ExecuteTime": {
     "end_time": "2025-04-09T09:38:52.948439Z",
     "start_time": "2025-04-09T09:38:52.942130Z"
    }
   },
   "cell_type": "code",
   "source": [
    "# 构建一个字典\n",
    "dict0 = {\"name\":\"Speed\", \"age\":18, \"weight\":65, \"height\":175}\n",
    "\n",
    "# # 1.1通过字面值\n",
    "# dict0 = {\"name\":\"Speed\", \"age\":18, \"weight\":65, \"height\":175}\n",
    "# dict1 = {}\n",
    "# # 集合，看作只含Key的字典，空集合set()，集合中元素无序\n",
    "# # 字典K:V，Python3.7+，与添加键值对顺序保持一致\n",
    "\n",
    "# # 1.2通过构造函数\n",
    "# dict0 = dict({\"name\":\"Speed\", \"age\":18, \"weight\":65, \"height\":175})\n",
    "# dict1 = dict(((\"name\",\"Speed\"), (\"age\",18), (\"weight\",65), (\"height\",175)))\n",
    "# print(dict0)\n",
    "# print(dict1)\n",
    "\n",
    "# # 2.1修改已存在的键值对\n",
    "# dict0[\"age\"] = 20\n",
    "# print(dict0)\n",
    "# # 2.2修改不存在的键值对\n",
    "# dict0['country'] = \"USA\"\n",
    "# print(dict0)\n",
    "\n",
    "# # 3.1查找，直接根据键，不健壮\n",
    "# print(dict0['name'])\n",
    "# print(dict0['age'])\n",
    "# print(dict0['weight'])\n",
    "# print(dict0['height'])\n",
    "# # 3.2查找，d.get(key, [default])\n",
    "# print(dict0.get('country',\"无国籍信息\"))\n",
    "\n",
    "# # 4.1删除del\n",
    "# del dict0[\"weight\"]\n",
    "# print(dict0)\n",
    "# # 4.2删除pop\n",
    "# dict0.pop('height')\n",
    "# print(dict0)"
   ],
   "id": "2cfbaa0e9db464b1",
   "outputs": [
    {
     "name": "stdout",
     "output_type": "stream",
     "text": [
      "{'name': 'Speed', 'age': 18, 'height': 175}\n",
      "{'name': 'Speed', 'age': 18}\n"
     ]
    }
   ],
   "execution_count": 26
  }
 ],
 "metadata": {
  "kernelspec": {
   "display_name": "Python 3",
   "language": "python",
   "name": "python3"
  },
  "language_info": {
   "codemirror_mode": {
    "name": "ipython",
    "version": 2
   },
   "file_extension": ".py",
   "mimetype": "text/x-python",
   "name": "python",
   "nbconvert_exporter": "python",
   "pygments_lexer": "ipython2",
   "version": "2.7.6"
  }
 },
 "nbformat": 4,
 "nbformat_minor": 5
}
