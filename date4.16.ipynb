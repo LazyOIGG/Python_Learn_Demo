{
 "cells": [
  {
   "metadata": {},
   "cell_type": "markdown",
   "source": [
    "1.关系运算符构成的表达式的类型为布尔型：True or False\n",
    "\n",
    "2.逻辑运算符and,or构造的表达式的类型取决于运算数和其短路特性\n",
    "* and: 若左操作数为真，返回右操作数；否则返回左操作数\n",
    "* or: 若左操作数为真，返回右操作数；否则返回右操作数\n",
    "* 应用场景：常用于条件赋值和简化代码逻辑"
   ],
   "id": "5683c92c46ed15b4"
  },
  {
   "metadata": {
    "ExecuteTime": {
     "end_time": "2025-04-16T08:22:59.489886Z",
     "start_time": "2025-04-16T08:22:59.480412Z"
    }
   },
   "cell_type": "code",
   "source": [
    "print(0 and 1)\n",
    "print(\"\" or \"abc\")\n",
    "print(1 and [])"
   ],
   "id": "2ba2f969667089e9",
   "outputs": [
    {
     "name": "stdout",
     "output_type": "stream",
     "text": [
      "0\n",
      "abc\n",
      "[]\n"
     ]
    }
   ],
   "execution_count": 1
  },
  {
   "metadata": {},
   "cell_type": "markdown",
   "source": [
    "3.not会先将操作数转化为布尔值，再取反\n",
    "* 假值包括：False, None, 0, 空字符串, 空容器\n",
    "* 其他均视为真值"
   ],
   "id": "7ca2b771d70587e9"
  },
  {
   "metadata": {
    "ExecuteTime": {
     "end_time": "2025-04-16T08:29:27.466002Z",
     "start_time": "2025-04-16T08:29:27.457032Z"
    }
   },
   "cell_type": "code",
   "source": [
    "print(not 0) # True(0为假值)\n",
    "print(not \"abc\") # False(非空字符串为真值)"
   ],
   "id": "90e0423c669ec24e",
   "outputs": [
    {
     "name": "stdout",
     "output_type": "stream",
     "text": [
      "True\n",
      "False\n"
     ]
    }
   ],
   "execution_count": 2
  },
  {
   "metadata": {},
   "cell_type": "markdown",
   "source": "# 字典常用方法: items(), keys(), values()",
   "id": "56c0c33a41e21cdb"
  },
  {
   "metadata": {
    "ExecuteTime": {
     "end_time": "2025-04-16T08:51:45.221168Z",
     "start_time": "2025-04-16T08:51:45.211315Z"
    }
   },
   "cell_type": "code",
   "source": [
    "llms1 = {'DeepSeek':'深度求索','ChatGPT 4.5':'OpenAI'}\n",
    "# items()\n",
    "print(llms1.items())\n",
    "print(type(llms1.items()))\n",
    "print(tuple(llms1.items()))\n",
    "for k,v in llms1.items():\n",
    "    print(f'{k}: {v}')\n",
    "\n",
    "# keys()\n",
    "print()\n",
    "print(llms1.keys())\n",
    "print(type(llms1.keys()))\n",
    "print(tuple(llms1.keys()))\n",
    "for k in llms1.keys():\n",
    "    print(f'{k}: {llms1[k]}')\n",
    "\n",
    "# values()\n",
    "print()\n",
    "llms2 = {'DeepSeek':'深度求索','ChatGPT 4.5':'OpenAI','Qwen2.0':'阿里','Qwen2.5':'阿里'}\n",
    "print(llms2.values())\n"
   ],
   "id": "5363bbca35aaefe3",
   "outputs": [
    {
     "name": "stdout",
     "output_type": "stream",
     "text": [
      "dict_items([('DeepSeek', '深度求索'), ('ChatGPT 4.5', 'OpenAI')])\n",
      "<class 'dict_items'>\n",
      "(('DeepSeek', '深度求索'), ('ChatGPT 4.5', 'OpenAI'))\n",
      "DeepSeek: 深度求索\n",
      "ChatGPT 4.5: OpenAI\n",
      "\n",
      "dict_keys(['DeepSeek', 'ChatGPT 4.5'])\n",
      "<class 'dict_keys'>\n",
      "('DeepSeek', 'ChatGPT 4.5')\n",
      "DeepSeek: 深度求索\n",
      "ChatGPT 4.5: OpenAI\n",
      "\n",
      "dict_values(['深度求索', 'OpenAI', '阿里', '阿里'])\n"
     ]
    }
   ],
   "execution_count": 11
  },
  {
   "metadata": {},
   "cell_type": "markdown",
   "source": [
    "字典推导式\n",
    "特点：不修改元字典，创建新字典，大字典需谨慎"
   ],
   "id": "e98071424f819d35"
  },
  {
   "metadata": {
    "ExecuteTime": {
     "end_time": "2025-04-16T09:05:35.500590Z",
     "start_time": "2025-04-16T09:05:35.494349Z"
    }
   },
   "cell_type": "code",
   "source": [
    "word_frequency = {\n",
    "    'DeepSeek': 1,\n",
    "    'of': 10,\n",
    "    'China': 3, 'USA': 3, 'tariff': 3,  # 关税\n",
    "    'OpenAI': 1,\n",
    "    'the': 10, 'a': 20, 'an': 20\n",
    "}\n",
    "\n",
    "stop_words = {'of', 'the', 'a', 'an'}\n",
    "\n",
    "# 使用字典推导式过滤停用词\n",
    "filtered_word_frequency = {word: freq for word, freq in word_frequency.items() if word not in stop_words}\n",
    "\n",
    "print(filtered_word_frequency)"
   ],
   "id": "e56fac694c35140a",
   "outputs": [
    {
     "name": "stdout",
     "output_type": "stream",
     "text": [
      "{'DeepSeek': 1, 'China': 3, 'USA': 3, 'tariff': 3, 'OpenAI': 1}\n"
     ]
    }
   ],
   "execution_count": 12
  },
  {
   "metadata": {},
   "cell_type": "markdown",
   "source": [
    "经典字典应用示例：\n",
    "* 词频率统计v0"
   ],
   "id": "92d734a0f6ebc33f"
  },
  {
   "metadata": {
    "ExecuteTime": {
     "end_time": "2025-04-16T09:09:25.603042Z",
     "start_time": "2025-04-16T09:09:25.594801Z"
    }
   },
   "cell_type": "code",
   "source": [
    "def count_word_frequency(text):\n",
    "    words = text.split()\n",
    "    frequency = {} # 创建空字典\n",
    "    for word in words:\n",
    "        # 若单词不存在，get返回0后加1；否则直接递增\n",
    "        frequency[word] = frequency.get(word, 0) + 1\n",
    "    return frequency\n",
    "text = \"apple banana orange apple banana apple\"\n",
    "result = count_word_frequency(text)\n",
    "print(result)"
   ],
   "id": "2c801795028b6626",
   "outputs": [
    {
     "name": "stdout",
     "output_type": "stream",
     "text": [
      "{'apple': 3, 'banana': 2, 'orange': 1}\n"
     ]
    }
   ],
   "execution_count": 13
  },
  {
   "metadata": {},
   "cell_type": "markdown",
   "source": [
    "* 词频率v1:\n",
    "去除常用词 给出出现频率最高的五个词和最低的五个词"
   ],
   "id": "c6c4064e7fd75394"
  },
  {
   "metadata": {},
   "cell_type": "code",
   "outputs": [],
   "execution_count": null,
   "source": [
    "import string\n",
    "\n",
    "def word_frequency_analysis(text, stop_words=None):\n",
    "    \"\"\"\"统计词频，过滤停用词，返回最高和最低频率的词\"\"\"\n",
    "    # 1.预处理文本：转小写，去标点，分割单词\n",
    "    text = text.lower()\n",
    "    text = text.translate(str.maketrans('', '', string.punctuation))\n",
    "    words = text.split()\n",
    "\n",
    "    if stop_words is None:\n",
    "        stop_words = {'the', 'of', 'with', 'a', 'an', 'in', 'is', 'it', 'for', 'and'}"
   ],
   "id": "a2b4f011f08d0442"
  },
  {
   "metadata": {},
   "cell_type": "markdown",
   "source": [
    "### **常见的英文停用词列表**\n",
    "以下是一些常用的英文停用词（部分来自 `nltk` 和 `sklearn` 的标准停用词列表）：\n",
    "\n",
    "```python\n",
    "english_stop_words = {\n",
    "    'a', 'an', 'the',  # 冠词\n",
    "    'and', 'or', 'but', 'if', 'because',  # 连词\n",
    "    'of', 'to', 'in', 'for', 'on', 'with', 'at', 'by', 'from', 'up', 'down', 'about', 'into', 'over', 'under',  # 介词\n",
    "    'i', 'you', 'he', 'she', 'it', 'we', 'they', 'me', 'him', 'her', 'us', 'them',  # 代词\n",
    "    'my', 'your', 'his', 'its', 'our', 'their',  # 物主代词\n",
    "    'this', 'that', 'these', 'those',  # 指示代词\n",
    "    'is', 'am', 'are', 'was', 'were', 'be', 'been', 'being',  # be动词\n",
    "    'have', 'has', 'had', 'having',  # have动词\n",
    "    'do', 'does', 'did', 'doing',  # do动词\n",
    "    'can', 'could', 'will', 'would', 'shall', 'should', 'may', 'might', 'must',  # 情态动词\n",
    "    'not', 'no', 'yes',  # 否定词\n",
    "    'here', 'there', 'when', 'where', 'why', 'how',  # 疑问词/副词\n",
    "    'some', 'any', 'all', 'both', 'each', 'few', 'many', 'most', 'other', 'such',  # 限定词\n",
    "    'only', 'just', 'also', 'very', 'too', 'so', 'than', 'then', 'again', 'more', 'less',  # 副词\n",
    "    'as', 'like', 'same', 'different',  # 比较词\n",
    "    'what', 'which', 'who', 'whom', 'whose',  # 疑问代词\n",
    "    'one', 'ones', 'every', 'none', 'nothing', 'something', 'anything', 'everything',  # 不定代词\n",
    "    'get', 'got', 'getting', 'go', 'went', 'gone', 'going',  # 常见动词\n",
    "    'say', 'said', 'saying', 'see', 'saw', 'seen', 'seeing',  # 常见动词\n",
    "    'make', 'made', 'making', 'take', 'took', 'taken', 'taking',  # 常见动词\n",
    "    'use', 'used', 'using', 'find', 'found', 'finding',  # 常见动词\n",
    "    'want', 'wanted', 'wanting', 'need', 'needed', 'needing',  # 常见动词\n",
    "    'good', 'bad', 'better', 'best', 'worse', 'worst',  # 形容词\n",
    "    'big', 'small', 'large', 'little', 'long', 'short',  # 形容词\n",
    "    'first', 'last', 'next', 'previous', 'early', 'late',  # 序数词/时间词\n",
    "    'well', 'better', 'best', 'badly', 'worse', 'worst',  # 副词\n",
    "    'now', 'then', 'today', 'yesterday', 'tomorrow', 'soon', 'later',  # 时间副词\n",
    "    'always', 'never', 'often', 'sometimes', 'usually', 'rarely',  # 频率副词\n",
    "    'very', 'quite', 'rather', 'too', 'enough',  # 程度副词\n",
    "    'also', 'either', 'neither',  # 连接副词\n",
    "    'perhaps', 'maybe', 'probably', 'certainly',  # 模态副词\n",
    "                       }\n"
   ],
   "id": "823b7a14d1640a50"
  }
 ],
 "metadata": {
  "kernelspec": {
   "display_name": "Python 3",
   "language": "python",
   "name": "python3"
  },
  "language_info": {
   "codemirror_mode": {
    "name": "ipython",
    "version": 2
   },
   "file_extension": ".py",
   "mimetype": "text/x-python",
   "name": "python",
   "nbconvert_exporter": "python",
   "pygments_lexer": "ipython2",
   "version": "2.7.6"
  }
 },
 "nbformat": 4,
 "nbformat_minor": 5
}
