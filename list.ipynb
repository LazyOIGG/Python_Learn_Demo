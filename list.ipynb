{
 "cells": [
  {
   "metadata": {},
   "cell_type": "code",
   "outputs": [],
   "execution_count": null,
   "source": [
    "# 1. 创建列表\n",
    "llms = ['DeepSeek', 'Grok3', 'OpenAI', 'Qwen']\n",
    "print(\"原始列表:\", llms)"
   ],
   "id": "b82a3cf6e1146ae6"
  },
  {
   "metadata": {},
   "cell_type": "code",
   "outputs": [],
   "execution_count": null,
   "source": [
    "# 2. 访问元素\n",
    "print(\"\\n=== 访问元素 ===\")\n",
    "print(\"第一个元素:\", llms[0])       # 正向索引\n",
    "print(\"最后一个元素:\", llms[-1])    # 负索引\n",
    "print(\"前两个元素:\", llms[:2])     # 切片"
   ],
   "id": "7ef1320459cefb89"
  },
  {
   "metadata": {},
   "cell_type": "code",
   "outputs": [],
   "execution_count": null,
   "source": [
    "# 3. 修改列表\n",
    "print(\"\\n=== 修改列表 ===\")\n",
    "llms[1] = 'Grok-3'  # 修改单个元素\n",
    "print(\"修改第二个元素后:\", llms)\n",
    "\n",
    "llms[1:3] = ['Grok3', 'OpenAI-X']  # 修改切片\n",
    "print(\"修改切片后:\", llms)"
   ],
   "id": "c8191d512351b075"
  },
  {
   "metadata": {},
   "cell_type": "code",
   "outputs": [],
   "execution_count": null,
   "source": [
    "# 4. 增加元素\n",
    "print(\"\\n=== 增加元素 ===\")\n",
    "llms.append('Claude')  # 末尾添加\n",
    "print(\"append后:\", llms)\n",
    "\n",
    "llms.insert(2, 'Gemini')  # 指定位置插入\n",
    "print(\"insert后:\", llms)\n",
    "\n",
    "llms.extend(['Mistral', 'LLaMA'])  # 合并列表\n",
    "print(\"extend后:\", llms)"
   ],
   "id": "3345d04761a245d9"
  },
  {
   "metadata": {},
   "cell_type": "code",
   "outputs": [],
   "execution_count": null,
   "source": [
    "# 5. 删除元素\n",
    "print(\"\\n=== 删除元素 ===\")\n",
    "removed = llms.remove('OpenAI-X')  # 删除指定值\n",
    "print(\"remove后:\", llms)\n",
    "\n",
    "popped = llms.pop(3)  # 删除并返回指定位置元素\n",
    "print(f\"pop后: {llms}, 被删除的元素: {popped}\")\n",
    "\n",
    "del llms[-1]  # 删除最后一个元素\n",
    "print(\"del后:\", llms)\n",
    "\n",
    "llms.clear()  # 清空列表\n",
    "print(\"clear后:\", llms)\n",
    "\n",
    "# 恢复列表\n",
    "llms = ['DeepSeek', 'Grok3', 'OpenAI', 'Qwen']"
   ],
   "id": "ef6bd58d6f8647f2"
  },
  {
   "metadata": {},
   "cell_type": "code",
   "outputs": [],
   "execution_count": null,
   "source": [
    "# 6. 查找元素\n",
    "print(\"\\n=== 查找元素 ===\")\n",
    "print(\"'OpenAI'的索引:\", llms.index('OpenAI'))\n",
    "print(\"'Qwen'是否在列表中:\", 'Qwen' in llms)\n",
    "print(\"'Claude'是否在列表中:\", 'Claude' in llms)"
   ],
   "id": "6eccd544c5bb8ca9"
  },
  {
   "metadata": {},
   "cell_type": "code",
   "outputs": [],
   "execution_count": null,
   "source": [
    "# 7. 排序和反转\n",
    "print(\"\\n=== 排序和反转 ===\")\n",
    "llms.sort()  # 默认升序\n",
    "print(\"sort后:\", llms)\n",
    "\n",
    "llms.sort(reverse=True)  # 降序\n",
    "print(\"降序sort后:\", llms)\n",
    "\n",
    "llms.reverse()  # 反转\n",
    "print(\"reverse后:\", llms)\n",
    "\n",
    "# 使用sorted不改变原列表\n",
    "sorted_llms = sorted(llms)\n",
    "print(\"sorted结果:\", sorted_llms)\n",
    "print(\"原列表未改变:\", llms)"
   ],
   "id": "6eb4db889dd08033"
  },
  {
   "metadata": {},
   "cell_type": "code",
   "outputs": [],
   "execution_count": null,
   "source": [
    "# 8. 遍历列表\n",
    "print(\"\\n=== 遍历列表 ===\")\n",
    "print(\"直接遍历:\")\n",
    "for llm in llms:\n",
    "    print(f\"- {llm}\")\n",
    "\n",
    "print(\"\\n带索引遍历:\")\n",
    "for i, llm in enumerate(llms):\n",
    "    print(f\"{i}. {llm}\")\n",
    "\n",
    "# 假设有对应的年份数据\n",
    "years = [2023, 2024, 2015, 2021]\n",
    "print(\"\\n并行遍历:\")\n",
    "for llm, year in zip(llms, years):\n",
    "    print(f\"{llm} 发布于 {year}\")"
   ],
   "id": "488caff5138cf1c4"
  },
  {
   "metadata": {},
   "cell_type": "code",
   "outputs": [],
   "execution_count": null,
   "source": [
    "# 9. 列表推导式\n",
    "print(\"\\n=== 列表推导式 ===\")\n",
    "# 生成所有LLM的大写版本\n",
    "uppercase_llms = [llm.upper() for llm in llms]\n",
    "print(\"大写版本:\", uppercase_llms)\n",
    "\n",
    "# 生成名称长度大于5的LLM\n",
    "long_names = [llm for llm in llms if len(llm) > 5]\n",
    "print(\"长度>5的名称:\", long_names)\n",
    "\n",
    "# 生成名称和长度的元组列表\n",
    "llm_lengths = [(llm, len(llm)) for llm in llms]\n",
    "print(\"名称和长度:\", llm_lengths)"
   ],
   "id": "104a84be4c5a0849"
  },
  {
   "metadata": {},
   "cell_type": "code",
   "outputs": [],
   "execution_count": null,
   "source": [
    "# 10. 其他常用操作\n",
    "print(\"\\n=== 其他常用操作 ===\")\n",
    "# 复制列表\n",
    "llms_copy = llms.copy()\n",
    "print(\"复制列表:\", llms_copy)\n",
    "\n",
    "# 列表长度\n",
    "print(\"列表长度:\", len(llms))\n",
    "\n",
    "# 统计元素出现次数\n",
    "print(\"'DeepSeek'出现次数:\", llms.count('DeepSeek'))\n",
    "\n",
    "# 连接列表\n",
    "new_llms = llms + ['Claude', 'Gemini']\n",
    "print(\"连接后的列表:\", new_llms)\n",
    "\n",
    "# 重复列表\n",
    "print(\"重复列表:\", llms * 2)"
   ],
   "id": "643e2409f0442953"
  }
 ],
 "metadata": {
  "kernelspec": {
   "display_name": "Python 3",
   "language": "python",
   "name": "python3"
  },
  "language_info": {
   "codemirror_mode": {
    "name": "ipython",
    "version": 2
   },
   "file_extension": ".py",
   "mimetype": "text/x-python",
   "name": "python",
   "nbconvert_exporter": "python",
   "pygments_lexer": "ipython2",
   "version": "2.7.6"
  }
 },
 "nbformat": 4,
 "nbformat_minor": 5
}
