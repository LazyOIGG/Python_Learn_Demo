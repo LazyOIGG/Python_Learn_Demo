{
 "cells": [
  {
   "cell_type": "code",
   "id": "initial_id",
   "metadata": {
    "collapsed": true,
    "ExecuteTime": {
     "end_time": "2025-04-02T12:13:18.978292Z",
     "start_time": "2025-04-02T12:12:40.007806Z"
    }
   },
   "source": [
    "# score_ls = []\n",
    "# for _ in range(10):\n",
    "#     score = input()\n",
    "#     score_ls.append(score)\n",
    "# print(score_ls)\n",
    "# while '' in score_ls:\n",
    "#     score_ls.remove('')\n",
    "#\n",
    "# score_ls=list(map(float, score_ls))\n",
    "# copy_score_ls = score_ls[:]\n",
    "#\n",
    "# copy_score_ls.remove(max(score_ls))\n",
    "# copy_score_ls.remove(min(score_ls))\n",
    "# average_score = sum(copy_score_ls) / len(copy_score_ls)\n",
    "# formatted_average = f\"{average_score:.2f}\"\n",
    "# score_ls.append(formatted_average)\n",
    "# score_ls=list(map(str, score_ls))\n",
    "# print(score_ls)\n",
    "\n",
    "score_ls = []\n",
    "for _ in range(10):\n",
    "    score = input()\n",
    "    score_ls.append(score)\n",
    "print(score_ls)\n",
    "\n",
    "# 去除空字符串，并转为浮点数\n",
    "while '' in score_ls:\n",
    "    score_ls.remove('')\n",
    "score_ls = list(map(float, score_ls))\n",
    "\n",
    "# 计算去掉最高分和最低分后的平均分\n",
    "copy_score_ls = score_ls.copy()\n",
    "copy_score_ls.remove(max(copy_score_ls))\n",
    "copy_score_ls.remove(min(copy_score_ls))\n",
    "average_score = sum(copy_score_ls) / len(copy_score_ls)\n",
    "formatted_average = f\"{average_score:.2f}\"\n",
    "\n",
    "# 将平均分添加到原列表\n",
    "score_ls.append(float(formatted_average))  # 先转回float，以便统一处理\n",
    "\n",
    "# 自定义转换函数：整数转\"10\"，浮点数转\"8.9\"\n",
    "def format_number(x):\n",
    "    if x.is_integer():\n",
    "        return str(int(x))  # 10.0 → \"10\"\n",
    "    else:\n",
    "        return str(x)      # 8.9 → \"8.9\"\n",
    "\n",
    "# 转换整个列表\n",
    "score_ls = list(map(format_number, score_ls))\n",
    "\n",
    "print(score_ls)"
   ],
   "outputs": [
    {
     "ename": "KeyboardInterrupt",
     "evalue": "Interrupted by user",
     "output_type": "error",
     "traceback": [
      "\u001B[31m---------------------------------------------------------------------------\u001B[39m",
      "\u001B[31mKeyboardInterrupt\u001B[39m                         Traceback (most recent call last)",
      "\u001B[36mCell\u001B[39m\u001B[36m \u001B[39m\u001B[32mIn[1]\u001B[39m\u001B[32m, line 22\u001B[39m\n\u001B[32m     20\u001B[39m score_ls = []\n\u001B[32m     21\u001B[39m \u001B[38;5;28;01mfor\u001B[39;00m _ \u001B[38;5;129;01min\u001B[39;00m \u001B[38;5;28mrange\u001B[39m(\u001B[32m10\u001B[39m):\n\u001B[32m---> \u001B[39m\u001B[32m22\u001B[39m     score = \u001B[38;5;28;43minput\u001B[39;49m\u001B[43m(\u001B[49m\u001B[43m)\u001B[49m\n\u001B[32m     23\u001B[39m     score_ls.append(score)\n\u001B[32m     24\u001B[39m \u001B[38;5;28mprint\u001B[39m(score_ls)\n",
      "\u001B[36mFile \u001B[39m\u001B[32mE:\\Python\\Python313\\Lib\\site-packages\\ipykernel\\kernelbase.py:1282\u001B[39m, in \u001B[36mKernel.raw_input\u001B[39m\u001B[34m(self, prompt)\u001B[39m\n\u001B[32m   1280\u001B[39m     msg = \u001B[33m\"\u001B[39m\u001B[33mraw_input was called, but this frontend does not support input requests.\u001B[39m\u001B[33m\"\u001B[39m\n\u001B[32m   1281\u001B[39m     \u001B[38;5;28;01mraise\u001B[39;00m StdinNotImplementedError(msg)\n\u001B[32m-> \u001B[39m\u001B[32m1282\u001B[39m \u001B[38;5;28;01mreturn\u001B[39;00m \u001B[38;5;28;43mself\u001B[39;49m\u001B[43m.\u001B[49m\u001B[43m_input_request\u001B[49m\u001B[43m(\u001B[49m\n\u001B[32m   1283\u001B[39m \u001B[43m    \u001B[49m\u001B[38;5;28;43mstr\u001B[39;49m\u001B[43m(\u001B[49m\u001B[43mprompt\u001B[49m\u001B[43m)\u001B[49m\u001B[43m,\u001B[49m\n\u001B[32m   1284\u001B[39m \u001B[43m    \u001B[49m\u001B[38;5;28;43mself\u001B[39;49m\u001B[43m.\u001B[49m\u001B[43m_parent_ident\u001B[49m\u001B[43m[\u001B[49m\u001B[33;43m\"\u001B[39;49m\u001B[33;43mshell\u001B[39;49m\u001B[33;43m\"\u001B[39;49m\u001B[43m]\u001B[49m\u001B[43m,\u001B[49m\n\u001B[32m   1285\u001B[39m \u001B[43m    \u001B[49m\u001B[38;5;28;43mself\u001B[39;49m\u001B[43m.\u001B[49m\u001B[43mget_parent\u001B[49m\u001B[43m(\u001B[49m\u001B[33;43m\"\u001B[39;49m\u001B[33;43mshell\u001B[39;49m\u001B[33;43m\"\u001B[39;49m\u001B[43m)\u001B[49m\u001B[43m,\u001B[49m\n\u001B[32m   1286\u001B[39m \u001B[43m    \u001B[49m\u001B[43mpassword\u001B[49m\u001B[43m=\u001B[49m\u001B[38;5;28;43;01mFalse\u001B[39;49;00m\u001B[43m,\u001B[49m\n\u001B[32m   1287\u001B[39m \u001B[43m\u001B[49m\u001B[43m)\u001B[49m\n",
      "\u001B[36mFile \u001B[39m\u001B[32mE:\\Python\\Python313\\Lib\\site-packages\\ipykernel\\kernelbase.py:1325\u001B[39m, in \u001B[36mKernel._input_request\u001B[39m\u001B[34m(self, prompt, ident, parent, password)\u001B[39m\n\u001B[32m   1322\u001B[39m \u001B[38;5;28;01mexcept\u001B[39;00m \u001B[38;5;167;01mKeyboardInterrupt\u001B[39;00m:\n\u001B[32m   1323\u001B[39m     \u001B[38;5;66;03m# re-raise KeyboardInterrupt, to truncate traceback\u001B[39;00m\n\u001B[32m   1324\u001B[39m     msg = \u001B[33m\"\u001B[39m\u001B[33mInterrupted by user\u001B[39m\u001B[33m\"\u001B[39m\n\u001B[32m-> \u001B[39m\u001B[32m1325\u001B[39m     \u001B[38;5;28;01mraise\u001B[39;00m \u001B[38;5;167;01mKeyboardInterrupt\u001B[39;00m(msg) \u001B[38;5;28;01mfrom\u001B[39;00m\u001B[38;5;250m \u001B[39m\u001B[38;5;28;01mNone\u001B[39;00m\n\u001B[32m   1326\u001B[39m \u001B[38;5;28;01mexcept\u001B[39;00m \u001B[38;5;167;01mException\u001B[39;00m:\n\u001B[32m   1327\u001B[39m     \u001B[38;5;28mself\u001B[39m.log.warning(\u001B[33m\"\u001B[39m\u001B[33mInvalid Message:\u001B[39m\u001B[33m\"\u001B[39m, exc_info=\u001B[38;5;28;01mTrue\u001B[39;00m)\n",
      "\u001B[31mKeyboardInterrupt\u001B[39m: Interrupted by user"
     ]
    }
   ],
   "execution_count": 1
  },
  {
   "metadata": {},
   "cell_type": "code",
   "outputs": [],
   "execution_count": null,
   "source": [
    "def file_to_lst(file):\n",
    "    \"\"\"读取文件并转换为二维列表，子列表为浮点数\"\"\"\n",
    "    with open(file) as fr:\n",
    "        score_ls = [line.strip().split(',') for line in fr]\n",
    "    return score_ls\n",
    "\n",
    "if __name__ == '__main__':\n",
    "    filename = '/data/bigfiles/mark_score.csv'\n",
    "    n = int(input())  # 输入需要输出的前n位选手的成绩\n",
    "    scores = file_to_lst(filename)\n",
    "    scores_processed = []\n",
    "\n",
    "    for lst in scores:\n",
    "        # 移除空字符串并转换为浮点数\n",
    "        filtered_scores = [float(score) for score in lst if score]\n",
    "\n",
    "        # 确保仲裁成绩存在（题目说明仲裁不允许弃权）\n",
    "        if len(filtered_scores) < 1:\n",
    "            continue  # 如果无有效成绩，跳过\n",
    "\n",
    "        # 去掉一个最高分和一个最低分\n",
    "        if len(filtered_scores) >= 2:\n",
    "            filtered_scores.remove(max(filtered_scores))\n",
    "            filtered_scores.remove(min(filtered_scores))\n",
    "\n",
    "        # 计算平均分（保留2位小数）\n",
    "        avg = round(sum(filtered_scores) / len(filtered_scores), 2)\n",
    "\n",
    "        # 附加平均分到原始列表（保留原始数据，包括仲裁成绩）\n",
    "        original_scores = [float(score) if score else None for score in lst]\n",
    "        original_scores = [score for score in original_scores if score is not None]\n",
    "        original_scores.append(avg)\n",
    "        scores_processed.append(original_scores)\n",
    "\n",
    "    # 排序：按平均分降序，平均分相同时按仲裁成绩升序\n",
    "    scores_sorted = sorted(\n",
    "        scores_processed,\n",
    "        key=lambda x: (-x[-1], x[-2])  # 平均分降序，仲裁成绩升序\n",
    "    )\n",
    "\n",
    "    # 输出前n位选手的成绩\n",
    "    print(scores_sorted[:n])"
   ],
   "id": "d74b2fc6cf154bb9"
  }
 ],
 "metadata": {
  "kernelspec": {
   "display_name": "Python 3",
   "language": "python",
   "name": "python3"
  },
  "language_info": {
   "codemirror_mode": {
    "name": "ipython",
    "version": 2
   },
   "file_extension": ".py",
   "mimetype": "text/x-python",
   "name": "python",
   "nbconvert_exporter": "python",
   "pygments_lexer": "ipython2",
   "version": "2.7.6"
  }
 },
 "nbformat": 4,
 "nbformat_minor": 5
}
